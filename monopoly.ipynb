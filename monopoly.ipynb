{
 "cells": [
  {
   "cell_type": "markdown",
   "metadata": {},
   "source": [
    "# Monopoly Game Agent\n",
    "Proof of Concept"
   ]
  },
  {
   "cell_type": "code",
   "execution_count": null,
   "metadata": {},
   "outputs": [],
   "source": [
    "%pip install -U langchain-community langchain-chroma langchain-openai"
   ]
  },
  {
   "cell_type": "code",
   "execution_count": 191,
   "metadata": {},
   "outputs": [],
   "source": [
    "from langchain_openai import ChatOpenAI\n",
    "\n",
    "# Create a new model\n",
    "model = ChatOpenAI(model=\"gpt-4o\")"
   ]
  },
  {
   "cell_type": "markdown",
   "metadata": {},
   "source": [
    "### Game Functions\n",
    "Wrappers that retrieves relevant game state(s)"
   ]
  },
  {
   "cell_type": "code",
   "execution_count": 192,
   "metadata": {},
   "outputs": [],
   "source": [
    "from simulator.monosim.player import Player\n",
    "from simulator.monosim.board import get_board, get_roads, get_properties, get_community_chest_cards, get_bank"
   ]
  },
  {
   "cell_type": "code",
   "execution_count": 193,
   "metadata": {},
   "outputs": [],
   "source": [
    "\"\"\"\n",
    "Initialize game with 2 players and return the general board info \n",
    "(bank, board, roads, properties, community_chest_cards)\n",
    "\"\"\"\n",
    "def initialize_game():\n",
    "    bank = get_bank()\n",
    "    board = get_board()\n",
    "    roads = get_roads()\n",
    "    properties = get_properties()\n",
    "    community_chest_cards = get_community_chest_cards()\n",
    "    community_cards_deck = list(community_chest_cards.keys())\n",
    "\n",
    "    player1 = Player('player1', 1, bank, board, roads, properties, community_cards_deck)\n",
    "    player2 = Player('player2', 2, bank, board, roads, properties, community_cards_deck)\n",
    "    \n",
    "    player1.meet_other_players([player2])\n",
    "    player2.meet_other_players([player1])\n",
    "    \n",
    "    return {\n",
    "        \"bank\": bank,\n",
    "        \"board\": board,\n",
    "        \"roads\": roads,\n",
    "        \"properties\": properties,\n",
    "        \"community_chest_cards\": community_chest_cards,\n",
    "        \"players\": [player1, player2] # For now, player 1 always comes first\n",
    "    }"
   ]
  },
  {
   "cell_type": "code",
   "execution_count": 194,
   "metadata": {},
   "outputs": [
    {
     "data": {
      "text/plain": [
       "{'cash': 5000, 'houses': 32, 'hotels': 12}"
      ]
     },
     "execution_count": 194,
     "metadata": {},
     "output_type": "execute_result"
    }
   ],
   "source": [
    "initial_state = initialize_game()\n",
    "initial_state[\"bank\"]"
   ]
  },
  {
   "cell_type": "code",
   "execution_count": 230,
   "metadata": {},
   "outputs": [],
   "source": [
    "\"\"\"\n",
    "Get the player's state, including position, roads owned, money, mortgaged properties, etc.\n",
    "\"\"\"\n",
    "def get_current_state(players):\n",
    "    current_state = {\n",
    "        \"players\": [{\"state\": player.get_state()} for player in players]\n",
    "    }\n",
    "    return current_state"
   ]
  },
  {
   "cell_type": "markdown",
   "metadata": {},
   "source": [
    "### Prompt Template"
   ]
  },
  {
   "cell_type": "code",
   "execution_count": 231,
   "metadata": {},
   "outputs": [],
   "source": [
    "agent_role = \"Player 1\" # we can switch the role of the agent to Player 2"
   ]
  },
  {
   "cell_type": "code",
   "execution_count": 232,
   "metadata": {},
   "outputs": [],
   "source": [
    "from langchain import OpenAI, LLMChain, PromptTemplate\n",
    "from langchain.memory import ConversationBufferMemory\n",
    "from langchain_core.runnables import RunnableWithMessageHistory\n",
    "from langchain_core.chat_history import BaseChatMessageHistory\n",
    "from langchain_core.messages import BaseMessage, SystemMessage\n",
    "from langchain_core.chat_history import (\n",
    "    BaseChatMessageHistory,\n",
    "    InMemoryChatMessageHistory\n",
    ")\n",
    "\n",
    "from typing import List\n",
    "\n"
   ]
  },
  {
   "cell_type": "code",
   "execution_count": 233,
   "metadata": {},
   "outputs": [],
   "source": [
    "# NOTE：For the sake of POC, currently it only supports:\n",
    "# - 2 players\n",
    "# - buy property or not: yes / no\n",
    "initial_template = \"\"\"\n",
    "  You are the {agent_role} in a Monopoly game. Here is the current game state:\n",
    "\n",
    "  Bank:\n",
    "  {initial_bank}\n",
    "\n",
    "  Board:\n",
    "  {initial_board}\n",
    "\n",
    "  Roads:\n",
    "  {initial_roads}\n",
    "\n",
    "  Properties:\n",
    "  {initial_properties}\n",
    "\n",
    "  Players:\n",
    "  Player 1 and Player 2\n",
    "\n",
    "  Your Objective:\n",
    "  Given the current state of the game, make strategic moves that maximizes your chances of winning.\n",
    "\n",
    "  Guidelines:\n",
    "  1. Analyze each component of the game state to understand your current situation.\n",
    "  2. Consider any immediate risks or opportunities from property ownership, player positions, or your current balance.\n",
    "\n",
    "  Instructions:\n",
    "  - Reason step-by-step to ensure your action aligns with the game’s rules and overall strategy.\n",
    "  - Provide your next move by determining if you should buy the property or not.\n",
    "\"\"\"\n",
    "\n",
    "initial_prompt = PromptTemplate(\n",
    "    input_variables=[\"agent_role\", \"initial_bank\", \"initial_board\", \"initial_roads\", \"initial_properties\"],\n",
    "    template=initial_template\n",
    ")\n"
   ]
  },
  {
   "cell_type": "code",
   "execution_count": 234,
   "metadata": {},
   "outputs": [],
   "source": [
    "# Dynamic prompt template to update the player state only (we can also only show the previous moves)\n",
    "dynamic_template = \"\"\"\n",
    "  Current Player State:\n",
    "  {player_state}\n",
    "\n",
    "  Based on the initial setup and current state, what is your next move?\n",
    "\"\"\"\n",
    "\n",
    "dynamic_prompt = PromptTemplate(\n",
    "    input_variables=[\"player_state\"],\n",
    "    template=dynamic_template\n",
    ")\n",
    "\n",
    "def get_dynamic_prompt(player_state):\n",
    "    return dynamic_template.format(player_state=player_state)"
   ]
  },
  {
   "cell_type": "markdown",
   "metadata": {},
   "source": [
    "### Structure Output\n",
    "Experimenting with Langchain's `pydantic_v1` to ensure more structured data"
   ]
  },
  {
   "cell_type": "code",
   "execution_count": 235,
   "metadata": {},
   "outputs": [],
   "source": [
    "from pydantic import BaseModel, Field"
   ]
  },
  {
   "cell_type": "code",
   "execution_count": 283,
   "metadata": {},
   "outputs": [],
   "source": [
    "class Output(BaseModel):\n",
    "    decision: str = Field(description=\"Your decision for the next move\")\n",
    "    reasoning: str = Field(description=\"Your reasoning for the decision\")"
   ]
  },
  {
   "cell_type": "markdown",
   "metadata": {},
   "source": [
    "### Memory"
   ]
  },
  {
   "cell_type": "code",
   "execution_count": 284,
   "metadata": {},
   "outputs": [],
   "source": [
    "class InMemoryHistory(BaseChatMessageHistory, BaseModel):\n",
    "    \"\"\"In memory implementation of chat message history.\"\"\"\n",
    "\n",
    "    messages: List[BaseMessage] = Field(default_factory=list)\n",
    "\n",
    "    def add_messages(self, messages: List[BaseMessage]) -> None:\n",
    "        \"\"\"Add a list of messages to the store\"\"\"\n",
    "        self.messages.extend(messages)\n",
    "\n",
    "    def clear(self) -> None:\n",
    "        self.messages = []"
   ]
  },
  {
   "cell_type": "code",
   "execution_count": 285,
   "metadata": {},
   "outputs": [],
   "source": [
    "store = {}\n",
    "\n",
    "def get_session_history(session_id: str) -> BaseChatMessageHistory:\n",
    "    if session_id not in store:\n",
    "        store[session_id] = InMemoryChatMessageHistory()\n",
    "    return store[session_id]"
   ]
  },
  {
   "cell_type": "markdown",
   "metadata": {},
   "source": [
    "### Simulate the Game"
   ]
  },
  {
   "cell_type": "markdown",
   "metadata": {},
   "source": [
    "Starting the game"
   ]
  },
  {
   "cell_type": "code",
   "execution_count": 286,
   "metadata": {},
   "outputs": [],
   "source": [
    "game = initialize_game()"
   ]
  },
  {
   "cell_type": "code",
   "execution_count": 287,
   "metadata": {},
   "outputs": [],
   "source": [
    "# Inject the static context once into memory\n",
    "initial_context = initial_template.format(\n",
    "    agent_role=\"Player 1\",  # or as appropriate\n",
    "    initial_bank=game[\"bank\"],\n",
    "    initial_board=game[\"board\"],\n",
    "    initial_roads=game[\"roads\"],\n",
    "    initial_properties=game[\"properties\"]\n",
    ")"
   ]
  },
  {
   "cell_type": "code",
   "execution_count": 303,
   "metadata": {},
   "outputs": [],
   "source": [
    "structured_llm = model.with_structured_output(Output)\n",
    "\n",
    "memory_history = InMemoryHistory()\n",
    "\n",
    "llm_with_memory = RunnableWithMessageHistory(\n",
    "    structured_llm,\n",
    "    get_session_history\n",
    ")\n",
    "\n",
    "memory_history.add_messages(SystemMessage(initial_context))\n",
    "\n",
    "# TODO: This step is causing error for unknown reasons (possibly due to arguments passed in incorrectly)\n",
    "# chain = dynamic_prompt | llm_with_memory\n",
    "chain = llm_with_memory"
   ]
  },
  {
   "cell_type": "code",
   "execution_count": 304,
   "metadata": {},
   "outputs": [],
   "source": [
    "player1 = game[\"players\"][0]\n",
    "player2 = game[\"players\"][1]\n",
    "list_players = [player1, player2]\n",
    "\n",
    "stop_at_round = 5 # arbitrary number of rounds to play before agent comes in and make a decision (for POC)\n",
    "\n",
    "idx_count = 0\n",
    "while not player1.has_lost() and not player2.has_lost() and idx_count < stop_at_round:\n",
    "    for player in list_players:\n",
    "        player.play()\n",
    "    idx_count += 1\n"
   ]
  },
  {
   "cell_type": "markdown",
   "metadata": {},
   "source": [
    "### Get the Result\n",
    "Note: we can't guarantee that the AI is on a property after some moves, hence I omitted the last part of the logic for triggering `buy_property()`"
   ]
  },
  {
   "cell_type": "code",
   "execution_count": 306,
   "metadata": {},
   "outputs": [
    {
     "name": "stderr",
     "output_type": "stream",
     "text": [
      "Error in RootListenersTracer.on_chain_end callback: ValueError(\"Expected str, BaseMessage, List[BaseMessage], or Tuple[BaseMessage]. Got decision='Unmortgage roads if affordable.' reasoning='Player 1 has several mortgaged roads and sufficient cash flow. Unmortgaging them will increase rental income potential.'.\")\n"
     ]
    },
    {
     "name": "stdout",
     "output_type": "stream",
     "text": [
      "decision='Unmortgage roads if affordable.' reasoning='Player 1 has several mortgaged roads and sufficient cash flow. Unmortgaging them will increase rental income potential.'\n"
     ]
    }
   ],
   "source": [
    "import json\n",
    "\n",
    "# Example configuration and player state\n",
    "config = {\"configurable\": {\"session_id\": \"123\"}}\n",
    "player_state = get_current_state(list_players)\n",
    "\n",
    "# Convert player state to a string (if necessary)\n",
    "player_state_str = json.dumps(player_state, indent=2)\n",
    "\n",
    "# Pass the input as a dictionary, matching the prompt template's expected variable names\n",
    "response = chain.invoke(\n",
    "    {\"player_state\": player_state_str},\n",
    "    config=config\n",
    ")\n",
    "\n",
    "print(response)"
   ]
  },
  {
   "cell_type": "code",
   "execution_count": 307,
   "metadata": {},
   "outputs": [
    {
     "data": {
      "text/plain": [
       "'Unmortgage roads if affordable.'"
      ]
     },
     "execution_count": 307,
     "metadata": {},
     "output_type": "execute_result"
    }
   ],
   "source": [
    "response.decision"
   ]
  },
  {
   "cell_type": "code",
   "execution_count": 308,
   "metadata": {},
   "outputs": [
    {
     "data": {
      "text/plain": [
       "'Player 1 has several mortgaged roads and sufficient cash flow. Unmortgaging them will increase rental income potential.'"
      ]
     },
     "execution_count": 308,
     "metadata": {},
     "output_type": "execute_result"
    }
   ],
   "source": [
    "response.reasoning"
   ]
  }
 ],
 "metadata": {
  "kernelspec": {
   "display_name": "Python 3",
   "language": "python",
   "name": "python3"
  },
  "language_info": {
   "codemirror_mode": {
    "name": "ipython",
    "version": 3
   },
   "file_extension": ".py",
   "mimetype": "text/x-python",
   "name": "python",
   "nbconvert_exporter": "python",
   "pygments_lexer": "ipython3",
   "version": "3.11.3"
  }
 },
 "nbformat": 4,
 "nbformat_minor": 2
}
