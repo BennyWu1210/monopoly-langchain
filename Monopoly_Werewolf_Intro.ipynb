{
  "cells": [
    {
      "cell_type": "markdown",
      "metadata": {
        "id": "ZecnYLOVaPYW"
      },
      "source": [
        "## Setup and Imports"
      ]
    },
    {
      "cell_type": "code",
      "execution_count": null,
      "metadata": {
        "colab": {
          "base_uri": "https://localhost:8080/"
        },
        "collapsed": true,
        "id": "LJ9ZIEZmaQNM",
        "outputId": "9761456f-baa9-4434-c8ac-d6c86977af86"
      },
      "outputs": [],
      "source": [
        "%pip install -U langchain-community langchain-chroma langchain-openai"
      ]
    },
    {
      "cell_type": "code",
      "execution_count": 2,
      "metadata": {
        "colab": {
          "base_uri": "https://localhost:8080/"
        },
        "id": "T99jiVYVbkBk",
        "outputId": "4aebeb0f-b9b0-4126-c66f-d0a26a10a33b"
      },
      "outputs": [
        {
          "name": "stdout",
          "output_type": "stream",
          "text": [
            "··········\n",
            "··········\n"
          ]
        }
      ],
      "source": [
        "import getpass\n",
        "import os\n",
        "\n",
        "# LangChain: [SECRET HIDDEN]\n",
        "os.environ[\"LANGCHAIN_API_KEY\"] = getpass.getpass()\n",
        "\n",
        "# OpenAI: [SECRET HIDDEN]\n",
        "os.environ[\"OPENAI_API_KEY\"] = getpass.getpass()"
      ]
    },
    {
      "cell_type": "code",
      "execution_count": 3,
      "metadata": {
        "id": "H7jYAztKdTFB"
      },
      "outputs": [],
      "source": [
        "from langchain import OpenAI, LLMChain, PromptTemplate\n",
        "from langchain.agents import Tool, AgentExecutor, LLMSingleActionAgent\n",
        "from langchain.memory import ConversationBufferMemory\n",
        "from langchain.callbacks import StdOutCallbackHandler"
      ]
    },
    {
      "cell_type": "code",
      "execution_count": 4,
      "metadata": {
        "id": "OGqtHW9ocefC"
      },
      "outputs": [],
      "source": [
        "from langchain_openai import ChatOpenAI\n",
        "\n",
        "# we can explore other models too\n",
        "model = ChatOpenAI(model=\"gpt-4o\")"
      ]
    },
    {
      "cell_type": "markdown",
      "metadata": {
        "id": "V5LgLEKIaWqM"
      },
      "source": [
        "## Load Game Logs"
      ]
    },
    {
      "cell_type": "code",
      "execution_count": null,
      "metadata": {
        "colab": {
          "base_uri": "https://localhost:8080/",
          "height": 205
        },
        "collapsed": true,
        "id": "vhjQw-l4cZsX",
        "outputId": "49851f91-706a-4363-949c-34b8e38e222d"
      },
      "outputs": [],
      "source": [
        "with open('Monopoly_Game_1.txt', 'r') as f:\n",
        "  LOGS = f.read()\n",
        "\n",
        "agent_role = \"Player 1\"\n",
        "# LOGS"
      ]
    },
    {
      "cell_type": "markdown",
      "metadata": {
        "id": "w1RZ7BIpaXkF"
      },
      "source": [
        "## Initialize LLM Agent"
      ]
    },
    {
      "cell_type": "code",
      "execution_count": 7,
      "metadata": {
        "id": "MnrvRA78aXM-"
      },
      "outputs": [],
      "source": [
        "# Conciserompt template that instructs the agent on how to make a move\n",
        "\n",
        "template = \"\"\"\n",
        "  You are playing as {agent_role} in a game. Below is the current game history, including all moves made, the game state, and key events:\n",
        "\n",
        "  {game_history}\n",
        "\n",
        "  Objective:\n",
        "  Make your next move based on your strategy and the game’s rules, maximizing your chance of success.\n",
        "\n",
        "  Guidelines:\n",
        "  1. Review the game history to understand the current state and objectives.\n",
        "  2. Identify constraints or rules limiting your possible actions.\n",
        "  3. Analyze patterns, threats, or opportunities.\n",
        "\n",
        "\n",
        "  Instructions:\n",
        "  1. Reason step-by-step to ensure your action aligns with the game’s rules and strategy.\n",
        "  2. Finally, provide a single valid move, formatted as an action, with no extra text.\n",
        "  3. Log a summary of the state of the game after each move\n",
        "  4. Think about short-term impact and long-term potential risks or advantages.\n",
        "\n",
        "  What is your next move? Give your final response as NEXT MOVE: <move>\n",
        "\"\"\"\n",
        "\n",
        "prompt = PromptTemplate(\n",
        "    input_variables=[\"agent_role\", \"game_history\"],\n",
        "    template=template\n",
        ")\n",
        "\n",
        "chain = prompt | model"
      ]
    },
    {
      "cell_type": "markdown",
      "metadata": {
        "id": "pIgyb3szabog"
      },
      "source": [
        "## Simulating the Game"
      ]
    },
    {
      "cell_type": "markdown",
      "metadata": {
        "id": "e1KzzPhnLq3G"
      },
      "source": [
        "**Major question:**\n",
        "\n",
        "is there a specific structure of the game logs that we can represent the game state and each move programatically? Or could we use another LLM (such as GPT's function calling) to understand each move and game states?"
      ]
    },
    {
      "cell_type": "code",
      "execution_count": 8,
      "metadata": {
        "id": "AHLtsjFxaZhR"
      },
      "outputs": [],
      "source": [
        "'''\n",
        "Process the game history and return the current game state.\n",
        "This would require a working monopoly simulator\n",
        "\n",
        "'''\n",
        "def get_current_game_state(game_history):\n",
        "    # For now, we'll return a placeholder\n",
        "    return \"Current game state based on the history.\""
      ]
    },
    {
      "cell_type": "markdown",
      "metadata": {
        "id": "KYhgb6aNNq3t"
      },
      "source": [
        "You know what.. Let's just simulate the game on our own!\n",
        "\n",
        "Below is an unfinished simulation of Monopoly.\n",
        "UPDATE: Mehar advised that we use this simulation: [Monopoly Simulation](https://github.com/mayankkejriwal/GNOME-p3).\n",
        "\n",
        "**Thus this implementation is currently abandoned until further notice**"
      ]
    },
    {
      "cell_type": "code",
      "execution_count": 9,
      "metadata": {
        "id": "FKXXP4t6N42u"
      },
      "outputs": [],
      "source": [
        "import random"
      ]
    },
    {
      "cell_type": "code",
      "execution_count": 10,
      "metadata": {
        "id": "WL0itKgNN5Xs"
      },
      "outputs": [],
      "source": [
        "class Dice:\n",
        "  @staticmethod\n",
        "  def roll():\n",
        "    return random.randint(1, 6), random.randint(1, 6)"
      ]
    },
    {
      "cell_type": "code",
      "execution_count": 11,
      "metadata": {
        "id": "f7wQWmtROCZ9"
      },
      "outputs": [],
      "source": [
        "class Property:\n",
        "  def __init__(self, name, price, rent, owner=None):\n",
        "    self.name = name\n",
        "    self.price = price\n",
        "    self.rent = rent\n",
        "    self.owner = owner"
      ]
    },
    {
      "cell_type": "code",
      "execution_count": 12,
      "metadata": {
        "id": "1x5YoS0hODUR"
      },
      "outputs": [],
      "source": [
        "class Player:\n",
        "  def __init__(self, name, cash=1500, board_size=40):\n",
        "    self.name = name\n",
        "    self.position = 0  # Start at 'Go'\n",
        "    self.cash = cash  # Starting cash\n",
        "    self.properties: List[Property] = []\n",
        "    self.in_jail = False\n",
        "    self.board_size = board_size\n",
        "    self.jail_turns = 0\n",
        "\n",
        "  def move(self, steps):\n",
        "    self.position = (self.position + steps) % board_size"
      ]
    },
    {
      "cell_type": "code",
      "execution_count": 13,
      "metadata": {
        "id": "kpW5o5M5OV2B"
      },
      "outputs": [],
      "source": [
        "class Deck:\n",
        "  def __init__(self, cards):\n",
        "    self.cards = cards\n",
        "    random.shuffle(self.cards)\n",
        "\n",
        "  def draw_card(self):\n",
        "    card = self.cards.pop(0)\n",
        "    self.cards.append(card)  # Place it at the bottom of the deck\n",
        "    return card\n"
      ]
    },
    {
      "cell_type": "code",
      "execution_count": 14,
      "metadata": {
        "id": "IgZkoAwzO_d3"
      },
      "outputs": [],
      "source": [
        "class MonopolyGame:\n",
        "  def __init__(self, players_names):\n",
        "    self.players = [Player(name) for name in players_names]\n",
        "    self.current_player_index = 0\n",
        "    self.board = self.create_board()\n",
        "    self.chance_deck = Deck(self.create_chance_cards())\n",
        "    self.community_chest_deck = Deck(self.create_community_chest_cards())\n",
        "    self.game_over = False\n",
        "\n",
        "  def create_board(self):\n",
        "    # Simplified board with properties\n",
        "    board = []\n",
        "    for i in range(40):\n",
        "      if i in [0, 2, 4, 7, 17, 22, 33, 36]:  # Special spaces\n",
        "        board.append(None)\n",
        "      else:\n",
        "        board.append(Property(f\"Property {i}\", price=100 + i * 10, rent=10 + i * 2))\n",
        "    return board\n",
        "\n",
        "  def create_chance_cards(self):\n",
        "    return [\"Advance to Go\", \"Go to Jail\", \"Pay $50\", \"Receive $50\"]\n",
        "\n",
        "  def create_community_chest_cards(self):\n",
        "    return [\"Bank error in your favor. Receive $200\", \"Doctor's fees. Pay $50\"]\n",
        "\n",
        "  def get_current_player(self):\n",
        "    return self.players[self.current_player_index]\n",
        "\n",
        "  def next_turn(self):\n",
        "    self.current_player_index = (self.current_player_index + 1) % len(self.players)\n",
        "\n",
        "  def perform_move(self, player: Player, move):\n",
        "    if move == \"roll_dice\":\n",
        "      die1, die2 = Dice.roll()\n",
        "      steps = die1 + die2\n",
        "      player.move(steps)\n",
        "      print(f\"{player.name} rolled {die1} and {die2}, moving to position {player.position}\")\n",
        "      self.handle_landing(player)\n",
        "    elif move.startswith(\"buy_property\"):\n",
        "      property = self.board[player.position]\n",
        "      if property and property.owner is None:\n",
        "        if player.cash >= property.price:\n",
        "          player.cash -= property.price\n",
        "          property.owner = player\n",
        "          player.properties.append(property)\n",
        "          print(f\"{player.name} bought {property.name}\")\n",
        "        else:\n",
        "          print(f\"{player.name} doesn't have enough cash to buy {property.name}\")\n",
        "    # TODO: Add more actions as needed\n",
        "\n",
        "  def handle_landing(self, player: Player):\n",
        "    space = self.board[player.position]\n",
        "    if isinstance(space, Property):\n",
        "      if space.owner is None:\n",
        "        print(f\"{player.name} landed on unowned property {space.name}\")\n",
        "      elif space.owner != player:\n",
        "        rent = space.rent\n",
        "        player.cash -= rent\n",
        "        space.owner.cash += rent\n",
        "        print(f\"{player.name} paid ${rent} rent to {space.owner.name}\")\n",
        "    elif space is None:\n",
        "      print(f\"{player.name} landed on a special space.\")\n",
        "    # Add more landing logic as needed\n",
        "\n",
        "  def represent_game_state(self):\n",
        "    state = {\n",
        "      \"players\": [\n",
        "        {\n",
        "          \"name\": player.name,\n",
        "          \"position\": player.position,\n",
        "          \"cash\": player.cash,\n",
        "          \"properties\": [prop.name for prop in player.properties],\n",
        "          \"in_jail\": player.in_jail\n",
        "        } for player in self.players\n",
        "      ],\n",
        "      \"current_player\": self.get_current_player().name\n",
        "    }\n",
        "\n",
        "    return state\n"
      ]
    },
    {
      "cell_type": "markdown",
      "metadata": {
        "id": "AlR30gtIPA6D"
      },
      "source": [
        "### **IDEA (for actual project):**\n",
        "\n",
        "Keeping track of the game state through a LLM could lead to inconsistencies. We'd like to simulate the game through code.\n",
        "\n",
        "Use GPT-4o's function calling feature to:\n",
        "1. Take in current logs, line by line\n",
        "2. For each move, determine which function(s) to call AND what arguments to pass in\n",
        "3. Update game state by calling the function(s)\n",
        "\n",
        "Either way, we must somehow simulate the game in order to evaluate the model's performance.\n",
        "So that when our agent make a sequence of decisions, we know who is winning"
      ]
    },
    {
      "cell_type": "markdown",
      "metadata": {
        "id": "LetoVD3oLh4z"
      },
      "source": [
        "## Simulate Agent"
      ]
    },
    {
      "cell_type": "markdown",
      "metadata": {
        "id": "_X6vODM0RTvg"
      },
      "source": [
        "Let's predict some steps!"
      ]
    },
    {
      "cell_type": "code",
      "execution_count": 15,
      "metadata": {
        "id": "cOOxta63PxLv"
      },
      "outputs": [],
      "source": [
        "# Currently not interacting with the game, since it's incomplete\n",
        "game = MonopolyGame([\"Player A\", \"Player B\", \"Player C\", \"Player D\"])"
      ]
    },
    {
      "cell_type": "code",
      "execution_count": 16,
      "metadata": {
        "id": "OcWzCCjRR_gF"
      },
      "outputs": [],
      "source": [
        "# Arbitrarily chosen\n",
        "game_history = LOGS.split(\"\\n\")[0:199]"
      ]
    },
    {
      "cell_type": "code",
      "execution_count": 17,
      "metadata": {
        "colab": {
          "base_uri": "https://localhost:8080/"
        },
        "id": "NaoGLhT5NKJS",
        "outputId": "c5dd4242-2054-41fd-9b96-b6806d38603e"
      },
      "outputs": [
        {
          "name": "stdout",
          "output_type": "stream",
          "text": [
            "GAME INFORMATION: Printing cash balance and net worth of each player: \n",
            "GAME INFORMATION: player 3 has a cash balance of $960.0 and a net worth of $1500.0\n",
            "GAME INFORMATION: player 4 has a cash balance of $1325.0 and a net worth of $1525.0\n",
            "GAME INFORMATION: player 2 has a cash balance of $1475.0 and a net worth of $1475.0\n",
            "GAME INFORMATION: player 1 has a cash balance of $1500.0 and a net worth of $1500.0\n",
            "GAME ACTION: rolling die...\n",
            "GAME INFORMATION: dies have come up [5, 5]\n",
            "MOVE INFORMATION: moving player 4 by 10 relative steps forward\n",
            "MOVE INFORMATION: player is currently in position Reading Railroad; player is moving to position Pennsylvania Railroad\n",
            "MOVE INFORMATION: player 4 is on a railroad location, namely Pennsylvania Railroad\n",
            "MOVE INFORMATION: Pennsylvania Railroad is owned by Bank. The option to buy for player 4 is true\n",
            "GAME PHASE: post-roll phase for player 4\n",
            "PLAYER 4: I will attempt to buy Pennsylvania Railroad from the bank.\n",
            "=====\n",
            "GAME INFORMATION: Printing cash balance and net worth of each player: \n",
            "GAME INFORMATION: player 3 has a cash balance of $960.0 and a net worth of $1500.0\n",
            "GAME INFORMATION: player 4 has a cash balance of $1175.0 and a net worth of $1575.0\n",
            "GAME INFORMATION: player 2 has a cash balance of $1425.0 and a net worth of $1425.0\n",
            "GAME INFORMATION: player 1 has a cash balance of $1500.0 and a net worth of $1500.0\n",
            "GAME ACTION: rolling die...\n",
            "GAME INFORMATION: dies have come up [5, 3]\n",
            "MOVE INFORMATION: moving player 1 by 8 relative steps forward\n",
            "MOVE INFORMATION: player is currently in position In Jail/Just Visiting; player is moving to position Tennessee Avenue\n",
            "MOVE INFORMATION: player 1 is on a real estate location, namely Tennessee Avenue\n",
            "MOVE INFORMATION: Tennessee Avenue is owned by Bank. The option to buy for player 1 is true\n",
            "GAME PHASE: post-roll phase for player 1\n",
            "PLAYER 1: I will attempt to buy Tennessee Avenue from the bank.\n",
            "=====\n",
            "GAME INFORMATION: player 3 has a cash balance of $72.5 and a net worth of $2152.5\n",
            "GAME INFORMATION: player 4 has a cash balance of $380.0 and a net worth of $2340.0\n",
            "GAME INFORMATION: player 2 has a cash balance of $231.0 and a net worth of $1381.0\n",
            "GAME INFORMATION: player 1 has a cash balance of $1841.5 and a net worth of $2431.5\n",
            "GAME ACTION: rolling die...\n",
            "GAME INFORMATION: dies have come up [2, 6]\n",
            "MOVE INFORMATION: moving player 3 by 8 relative steps forward\n",
            "MOVE INFORMATION: player is currently in position Virginia Avenue; player is moving to position Chance\n",
            "MOVE INFORMATION: player 3 is on an action location, namely Chance. Performing action...\n",
            "CARD INFORMATION: player 3 is picking card from chance.\n",
            "CARD INFORMATION: player 3 picked card go_to_nearest_railroad_pay_double\n",
            "CARD INFORMATION: executing move_to_nearest_railroad__pay_double_or_buy__check_for_go for player 3\n",
            "CARD INFORMATION: The railroad position that player is being moved to is B&O Railroad\n",
            "=====\n",
            "GAME INFORMATION: Beginning play. Rolling first die...\n",
            "GAME PHASE: pre-roll phase for player 3\n",
            "PLAYER 3: I am skipping turn\n",
            "GAME PHASE: out-of-turn phase for player 4\n",
            "PLAYER 4: I am skipping turn\n",
            "GAME PHASE: out-of-turn phase for player 2\n",
            "PLAYER 2: I am skipping turn\n",
            "GAME PHASE: out-of-turn phase for player 1\n",
            "PLAYER 1: I am skipping turn\n",
            "GAME INFORMATION: Printing cash balance and net worth of each player: \n",
            "GAME INFORMATION: player 3 has a cash balance of $1500.0 and a net worth of $1500.0\n",
            "GAME INFORMATION: player 4 has a cash balance of $1500.0 and a net worth of $1500.0\n",
            "GAME INFORMATION: player 2 has a cash balance of $1500.0 and a net worth of $1500.0\n",
            "GAME INFORMATION: player 1 has a cash balance of $1500.0 and a net worth of $1500.0\n",
            "GAME ACTION: rolling die...\n",
            "GAME INFORMATION: dies have come up [4, 3]\n",
            "MOVE INFORMATION: moving player 3 by 7 relative steps forward\n",
            "MOVE INFORMATION: player is currently in position Go; player is moving to position Chance\n",
            "=====\n"
          ]
        }
      ],
      "source": [
        "from langchain_chroma import Chroma\n",
        "from langchain_openai import OpenAIEmbeddings\n",
        "from langchain.text_splitter import CharacterTextSplitter\n",
        "\n",
        "text_splitter = CharacterTextSplitter(separator=\"\\n\", chunk_size=1000, chunk_overlap=0)\n",
        "texts = text_splitter.split_text(LOGS)\n",
        "\n",
        "embeddings = OpenAIEmbeddings()\n",
        "docsearch = Chroma.from_texts(texts, embeddings)\n",
        "\n",
        "# Use docsearch to query game log data\n",
        "query = \"What is the current game information?\"\n",
        "docs = docsearch.similarity_search(query)\n",
        "\n",
        "# We can then process the retrieved docs to extract information about the game state\n",
        "# and potentially use it to improve the agent's decision-making process\n",
        "for doc in docs:\n",
        "    print(doc.page_content)\n",
        "    print(\"=====\")"
      ]
    },
    {
      "cell_type": "code",
      "execution_count": 18,
      "metadata": {
        "colab": {
          "base_uri": "https://localhost:8080/",
          "height": 304
        },
        "id": "8sWwZ92BacCf",
        "outputId": "ea24b200-f62c-4222-b208-f21083e49756"
      },
      "outputs": [
        {
          "data": {
            "application/vnd.google.colaboratory.intrinsic+json": {
              "type": "string"
            },
            "text/plain": [
              "\"To determine the best move, let's analyze the current situation:\\n\\n### Game State Analysis:\\n- **You (Player 1):** \\n  - **Current Position:** In Jail/Just Visiting\\n  - **Cash Balance:** $1500\\n  - **Net Worth:** $1500\\n  - **Assets Owned:** None\\n\\n- **Other Players:**\\n  - **Player 2:** Cash $1475, Net Worth $1475, No properties\\n  - **Player 3:** Cash $960, Net Worth $1500, Assets: Illinois Avenue, North Carolina Avenue\\n  - **Player 4:** Cash $1125, Net Worth $1525, Assets: Reading Railroad, Pennsylvania Railroad\\n\\n### Observations:\\n1. **Properties and Railroads:** \\n   - Player 3 is acquiring properties, potentially aiming for a monopoly.\\n   - Player 4 is collecting railroads, which can yield substantial rent if more are acquired.\\n   \\n2. **Financial Position:**\\n   - You have the highest cash balance with $1500.\\n   - Players 3 and 4 have been actively purchasing properties, which might limit their future purchasing power.\\n\\n3. **Current Turn:**\\n   - It's currently the out-of-turn phase for Player 1, indicating the next roll will be yours.\\n\\n### Strategy:\\n- **Objective:** Acquire properties to form monopolies or strategic holdings while maintaining enough cash for potential future purchases or rent payments.\\n- **Opportunity:** Utilize your strong cash position to buy valuable properties when landed upon, focusing on high-return locations.\\n\\n### Next Move:\\n- Since it is the out-of-turn phase, you should skip, as the rules imply you can't make a move until your pre-roll phase. Prepare to make a purchase decision on the next roll if you land on an unowned property.\\n\\n**Move:**\\n```\\nPLAYER 1: I am skipping turn\\n```\""
            ]
          },
          "execution_count": 18,
          "metadata": {},
          "output_type": "execute_result"
        }
      ],
      "source": [
        "response = chain.invoke(\n",
        "    {\"agent_role\": agent_role, \"game_history\": \"\\n\".join(game_history)}\n",
        ")\n",
        "response.content"
      ]
    },
    {
      "cell_type": "markdown",
      "metadata": {
        "id": "a56ngAVeleV_"
      },
      "source": [
        "Finally, we add an output parser:"
      ]
    },
    {
      "cell_type": "code",
      "execution_count": 36,
      "metadata": {
        "id": "xX6yqh5rlKPp"
      },
      "outputs": [],
      "source": [
        "import re\n",
        "\n",
        "def parse_output(output):\n",
        "  \"\"\"Parses the output of the LLM agent to extract the next move.\n",
        "\n",
        "  Args:\n",
        "    output: The output string from the LLM agent.\n",
        "\n",
        "  Returns:\n",
        "    A dictionary containing the extracted move and any additional information.\n",
        "  \"\"\"\n",
        "\n",
        "  # Adjust the regex to match the \"Move:\" section \n",
        "  # (currently not working the best since format is not specified well in prompt)\n",
        "  move_match = re.search(r\"Move:\\*\\*\\n```(.*?)```\", output, re.DOTALL)\n",
        "  print(move_match)\n",
        "\n",
        "  if move_match:\n",
        "    move = move_match.group(1).strip()\n",
        "    return {\"move\": move}\n",
        "  else:\n",
        "    return {\"move\": None}\n"
      ]
    },
    {
      "cell_type": "code",
      "execution_count": 37,
      "metadata": {
        "colab": {
          "base_uri": "https://localhost:8080/"
        },
        "id": "vu6cqkXamFMw",
        "outputId": "59e5b419-f64f-4a08-b444-747b02c9e257"
      },
      "outputs": [
        {
          "name": "stdout",
          "output_type": "stream",
          "text": [
            "<re.Match object; span=(1580, 1624), match='Move:**\\n```\\nPLAYER 1: I am skipping turn\\n```'>\n"
          ]
        },
        {
          "data": {
            "text/plain": [
              "{'move': 'PLAYER 1: I am skipping turn'}"
            ]
          },
          "execution_count": 37,
          "metadata": {},
          "output_type": "execute_result"
        }
      ],
      "source": [
        "parse_output(response.content)"
      ]
    },
    {
      "cell_type": "markdown",
      "metadata": {
        "id": "aSmirex9XvMA"
      },
      "source": [
        "## Upcoming Phases (actual project):\n",
        "\n",
        "### Phase 1: Evaluate Decision Making\n",
        "\n",
        "**Track Game State:**\n",
        "   - Use object defined above OR Mehar's repo\n",
        "\n",
        "**Integrate Agent Actions:**  \n",
        "   - Allow the LLM agent to input actions (e.g., \"roll_dice\", \"buy_property\").  \n",
        "\n",
        "**Set Metrics for Evaluation:**  \n",
        "   - Track player balances, assets, and net worth.  \n",
        "   - Explore win/loss or score metrics for final outcomes.  \n",
        "\n",
        "(If we're going this way, each simulation would be dependent to the environment itself)\n",
        "\n",
        "### Phase 2: Run Full Game\n",
        "\n",
        "- Run multiple games and track key metrics.\n"
      ]
    }
  ],
  "metadata": {
    "colab": {
      "provenance": []
    },
    "kernelspec": {
      "display_name": "Python 3",
      "name": "python3"
    },
    "language_info": {
      "name": "python"
    }
  },
  "nbformat": 4,
  "nbformat_minor": 0
}
