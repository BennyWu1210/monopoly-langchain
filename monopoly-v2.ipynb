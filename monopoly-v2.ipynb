{
 "cells": [
  {
   "cell_type": "markdown",
   "metadata": {},
   "source": [
    "## Monopoly Game Agent (v2)"
   ]
  },
  {
   "cell_type": "markdown",
   "metadata": {},
   "source": [
    "**Proof of Concept**: Connecting LLM I/O to game simulators\n",
    "\n",
    "The following notebook contains:\n",
    "- Function wrappers to retrieve game state\n",
    "- Basic prompt template that we can inject state into\n",
    "- Output parser to extract necessary data\n",
    "\n",
    "Note: You can download and import into Goolge Colab if that is preferred.\n",
    "\n",
    "---"
   ]
  },
  {
   "cell_type": "markdown",
   "metadata": {},
   "source": [
    "### Project Setup\n",
    "Install dependencies"
   ]
  },
  {
   "cell_type": "code",
   "execution_count": 2,
   "metadata": {},
   "outputs": [
    {
     "name": "stdout",
     "output_type": "stream",
     "text": [
      "Defaulting to user installation because normal site-packages is not writeable\n",
      "Collecting langchain-community>=0.3.0 (from -r requirements.txt (line 1))\n",
      "  Using cached langchain_community-0.3.13-py3-none-any.whl.metadata (2.9 kB)\n",
      "Collecting langchain-chroma>=0.1.0 (from -r requirements.txt (line 2))\n",
      "  Using cached langchain_chroma-0.1.4-py3-none-any.whl.metadata (1.6 kB)\n",
      "Collecting langchain-openai>=0.2.0 (from -r requirements.txt (line 3))\n",
      "  Using cached langchain_openai-0.2.14-py3-none-any.whl.metadata (2.7 kB)\n",
      "Collecting langchain>=0.3.0 (from -r requirements.txt (line 4))\n",
      "  Using cached langchain-0.3.13-py3-none-any.whl.metadata (7.1 kB)\n",
      "Collecting pydantic>=2.0.0 (from -r requirements.txt (line 5))\n",
      "  Using cached pydantic-2.10.4-py3-none-any.whl.metadata (29 kB)\n",
      "Requirement already satisfied: PyYAML>=5.3 in /usr/lib/python3/dist-packages (from langchain-community>=0.3.0->-r requirements.txt (line 1)) (6.0.1)\n",
      "Requirement already satisfied: SQLAlchemy<3,>=1.4 in /usr/lib/python3/dist-packages (from langchain-community>=0.3.0->-r requirements.txt (line 1)) (1.4.47)\n",
      "Requirement already satisfied: aiohttp<4.0.0,>=3.8.3 in /usr/lib/python3/dist-packages (from langchain-community>=0.3.0->-r requirements.txt (line 1)) (3.8.6)\n",
      "Collecting dataclasses-json<0.7,>=0.5.7 (from langchain-community>=0.3.0->-r requirements.txt (line 1))\n",
      "  Using cached dataclasses_json-0.6.7-py3-none-any.whl.metadata (25 kB)\n",
      "Collecting httpx-sse<0.5.0,>=0.4.0 (from langchain-community>=0.3.0->-r requirements.txt (line 1))\n",
      "  Using cached httpx_sse-0.4.0-py3-none-any.whl.metadata (9.0 kB)\n",
      "Collecting langchain-core<0.4.0,>=0.3.27 (from langchain-community>=0.3.0->-r requirements.txt (line 1))\n",
      "  Using cached langchain_core-0.3.28-py3-none-any.whl.metadata (6.3 kB)\n",
      "Collecting langsmith<0.3,>=0.1.125 (from langchain-community>=0.3.0->-r requirements.txt (line 1))\n",
      "  Using cached langsmith-0.2.4-py3-none-any.whl.metadata (14 kB)\n",
      "Requirement already satisfied: numpy<2,>=1.22.4 in /usr/lib/python3/dist-packages (from langchain-community>=0.3.0->-r requirements.txt (line 1)) (1.24.2)\n",
      "Collecting pydantic-settings<3.0.0,>=2.4.0 (from langchain-community>=0.3.0->-r requirements.txt (line 1))\n",
      "  Using cached pydantic_settings-2.7.0-py3-none-any.whl.metadata (3.5 kB)\n",
      "Requirement already satisfied: requests<3,>=2 in /usr/lib/python3/dist-packages (from langchain-community>=0.3.0->-r requirements.txt (line 1)) (2.31.0)\n",
      "Collecting tenacity!=8.4.0,<10,>=8.1.0 (from langchain-community>=0.3.0->-r requirements.txt (line 1))\n",
      "  Using cached tenacity-9.0.0-py3-none-any.whl.metadata (1.2 kB)\n",
      "Collecting chromadb!=0.5.4,!=0.5.5,<0.6.0,>=0.4.0 (from langchain-chroma>=0.1.0->-r requirements.txt (line 2))\n",
      "  Using cached chromadb-0.5.23-py3-none-any.whl.metadata (6.8 kB)\n",
      "Requirement already satisfied: fastapi<1,>=0.95.2 in /usr/lib/python3/dist-packages (from langchain-chroma>=0.1.0->-r requirements.txt (line 2)) (0.101.0)\n",
      "Collecting openai<2.0.0,>=1.58.1 (from langchain-openai>=0.2.0->-r requirements.txt (line 3))\n",
      "  Using cached openai-1.58.1-py3-none-any.whl.metadata (27 kB)\n",
      "Collecting tiktoken<1,>=0.7 (from langchain-openai>=0.2.0->-r requirements.txt (line 3))\n",
      "  Using cached tiktoken-0.8.0-cp311-cp311-manylinux_2_17_x86_64.manylinux2014_x86_64.whl.metadata (6.6 kB)\n",
      "Collecting langchain-text-splitters<0.4.0,>=0.3.3 (from langchain>=0.3.0->-r requirements.txt (line 4))\n",
      "  Using cached langchain_text_splitters-0.3.4-py3-none-any.whl.metadata (2.3 kB)\n",
      "Collecting annotated-types>=0.6.0 (from pydantic>=2.0.0->-r requirements.txt (line 5))\n",
      "  Using cached annotated_types-0.7.0-py3-none-any.whl.metadata (15 kB)\n",
      "Collecting pydantic-core==2.27.2 (from pydantic>=2.0.0->-r requirements.txt (line 5))\n",
      "  Using cached pydantic_core-2.27.2-cp311-cp311-manylinux_2_17_x86_64.manylinux2014_x86_64.whl.metadata (6.6 kB)\n",
      "Collecting typing-extensions>=4.12.2 (from pydantic>=2.0.0->-r requirements.txt (line 5))\n",
      "  Using cached typing_extensions-4.12.2-py3-none-any.whl.metadata (3.0 kB)\n",
      "Collecting build>=1.0.3 (from chromadb!=0.5.4,!=0.5.5,<0.6.0,>=0.4.0->langchain-chroma>=0.1.0->-r requirements.txt (line 2))\n",
      "  Using cached build-1.2.2.post1-py3-none-any.whl.metadata (6.5 kB)\n",
      "Collecting chroma-hnswlib==0.7.6 (from chromadb!=0.5.4,!=0.5.5,<0.6.0,>=0.4.0->langchain-chroma>=0.1.0->-r requirements.txt (line 2))\n",
      "  Using cached chroma_hnswlib-0.7.6-cp311-cp311-manylinux_2_17_x86_64.manylinux2014_x86_64.whl.metadata (252 bytes)\n",
      "Requirement already satisfied: uvicorn>=0.18.3 in /usr/lib/python3/dist-packages (from uvicorn[standard]>=0.18.3->chromadb!=0.5.4,!=0.5.5,<0.6.0,>=0.4.0->langchain-chroma>=0.1.0->-r requirements.txt (line 2)) (0.24.0)\n",
      "Collecting posthog>=2.4.0 (from chromadb!=0.5.4,!=0.5.5,<0.6.0,>=0.4.0->langchain-chroma>=0.1.0->-r requirements.txt (line 2))\n",
      "  Using cached posthog-3.7.4-py2.py3-none-any.whl.metadata (2.0 kB)\n",
      "Collecting onnxruntime>=1.14.1 (from chromadb!=0.5.4,!=0.5.5,<0.6.0,>=0.4.0->langchain-chroma>=0.1.0->-r requirements.txt (line 2))\n",
      "  Using cached onnxruntime-1.20.1-cp311-cp311-manylinux_2_27_x86_64.manylinux_2_28_x86_64.whl.metadata (4.5 kB)\n",
      "Collecting opentelemetry-api>=1.2.0 (from chromadb!=0.5.4,!=0.5.5,<0.6.0,>=0.4.0->langchain-chroma>=0.1.0->-r requirements.txt (line 2))\n",
      "  Using cached opentelemetry_api-1.29.0-py3-none-any.whl.metadata (1.4 kB)\n",
      "Collecting opentelemetry-exporter-otlp-proto-grpc>=1.2.0 (from chromadb!=0.5.4,!=0.5.5,<0.6.0,>=0.4.0->langchain-chroma>=0.1.0->-r requirements.txt (line 2))\n",
      "  Using cached opentelemetry_exporter_otlp_proto_grpc-1.29.0-py3-none-any.whl.metadata (2.2 kB)\n",
      "Collecting opentelemetry-instrumentation-fastapi>=0.41b0 (from chromadb!=0.5.4,!=0.5.5,<0.6.0,>=0.4.0->langchain-chroma>=0.1.0->-r requirements.txt (line 2))\n",
      "  Using cached opentelemetry_instrumentation_fastapi-0.50b0-py3-none-any.whl.metadata (2.1 kB)\n",
      "Collecting opentelemetry-sdk>=1.2.0 (from chromadb!=0.5.4,!=0.5.5,<0.6.0,>=0.4.0->langchain-chroma>=0.1.0->-r requirements.txt (line 2))\n",
      "  Using cached opentelemetry_sdk-1.29.0-py3-none-any.whl.metadata (1.5 kB)\n",
      "Collecting tokenizers<=0.20.3,>=0.13.2 (from chromadb!=0.5.4,!=0.5.5,<0.6.0,>=0.4.0->langchain-chroma>=0.1.0->-r requirements.txt (line 2))\n",
      "  Using cached tokenizers-0.20.3-cp311-cp311-manylinux_2_17_x86_64.manylinux2014_x86_64.whl.metadata (6.7 kB)\n",
      "Collecting pypika>=0.48.9 (from chromadb!=0.5.4,!=0.5.5,<0.6.0,>=0.4.0->langchain-chroma>=0.1.0->-r requirements.txt (line 2))\n",
      "  Using cached PyPika-0.48.9-py2.py3-none-any.whl\n",
      "Collecting tqdm>=4.65.0 (from chromadb!=0.5.4,!=0.5.5,<0.6.0,>=0.4.0->langchain-chroma>=0.1.0->-r requirements.txt (line 2))\n",
      "  Using cached tqdm-4.67.1-py3-none-any.whl.metadata (57 kB)\n",
      "Collecting overrides>=7.3.1 (from chromadb!=0.5.4,!=0.5.5,<0.6.0,>=0.4.0->langchain-chroma>=0.1.0->-r requirements.txt (line 2))\n",
      "  Using cached overrides-7.7.0-py3-none-any.whl.metadata (5.8 kB)\n",
      "Requirement already satisfied: importlib-resources in /usr/lib/python3/dist-packages (from chromadb!=0.5.4,!=0.5.5,<0.6.0,>=0.4.0->langchain-chroma>=0.1.0->-r requirements.txt (line 2)) (6.0.1)\n",
      "Collecting grpcio>=1.58.0 (from chromadb!=0.5.4,!=0.5.5,<0.6.0,>=0.4.0->langchain-chroma>=0.1.0->-r requirements.txt (line 2))\n",
      "  Using cached grpcio-1.68.1-cp311-cp311-manylinux_2_17_x86_64.manylinux2014_x86_64.whl.metadata (3.9 kB)\n",
      "Collecting bcrypt>=4.0.1 (from chromadb!=0.5.4,!=0.5.5,<0.6.0,>=0.4.0->langchain-chroma>=0.1.0->-r requirements.txt (line 2))\n",
      "  Using cached bcrypt-4.2.1-cp39-abi3-manylinux_2_28_x86_64.whl.metadata (9.8 kB)\n",
      "Collecting typer>=0.9.0 (from chromadb!=0.5.4,!=0.5.5,<0.6.0,>=0.4.0->langchain-chroma>=0.1.0->-r requirements.txt (line 2))\n",
      "  Using cached typer-0.15.1-py3-none-any.whl.metadata (15 kB)\n",
      "Collecting kubernetes>=28.1.0 (from chromadb!=0.5.4,!=0.5.5,<0.6.0,>=0.4.0->langchain-chroma>=0.1.0->-r requirements.txt (line 2))\n",
      "  Using cached kubernetes-31.0.0-py2.py3-none-any.whl.metadata (1.5 kB)\n",
      "Collecting mmh3>=4.0.1 (from chromadb!=0.5.4,!=0.5.5,<0.6.0,>=0.4.0->langchain-chroma>=0.1.0->-r requirements.txt (line 2))\n",
      "  Using cached mmh3-5.0.1-cp311-cp311-manylinux_2_5_x86_64.manylinux1_x86_64.manylinux_2_17_x86_64.manylinux2014_x86_64.whl.metadata (14 kB)\n",
      "Collecting orjson>=3.9.12 (from chromadb!=0.5.4,!=0.5.5,<0.6.0,>=0.4.0->langchain-chroma>=0.1.0->-r requirements.txt (line 2))\n",
      "  Using cached orjson-3.10.12-cp311-cp311-manylinux_2_17_x86_64.manylinux2014_x86_64.whl.metadata (41 kB)\n",
      "Collecting httpx>=0.27.0 (from chromadb!=0.5.4,!=0.5.5,<0.6.0,>=0.4.0->langchain-chroma>=0.1.0->-r requirements.txt (line 2))\n",
      "  Using cached httpx-0.28.1-py3-none-any.whl.metadata (7.1 kB)\n",
      "Requirement already satisfied: rich>=10.11.0 in /usr/lib/python3/dist-packages (from chromadb!=0.5.4,!=0.5.5,<0.6.0,>=0.4.0->langchain-chroma>=0.1.0->-r requirements.txt (line 2)) (13.3.1)\n",
      "Collecting marshmallow<4.0.0,>=3.18.0 (from dataclasses-json<0.7,>=0.5.7->langchain-community>=0.3.0->-r requirements.txt (line 1))\n",
      "  Using cached marshmallow-3.23.2-py3-none-any.whl.metadata (7.1 kB)\n",
      "Collecting typing-inspect<1,>=0.4.0 (from dataclasses-json<0.7,>=0.5.7->langchain-community>=0.3.0->-r requirements.txt (line 1))\n",
      "  Using cached typing_inspect-0.9.0-py3-none-any.whl.metadata (1.5 kB)\n",
      "Collecting starlette<0.28.0,>=0.27.0 (from fastapi<1,>=0.95.2->langchain-chroma>=0.1.0->-r requirements.txt (line 2))\n",
      "  Downloading starlette-0.27.0-py3-none-any.whl.metadata (5.8 kB)\n",
      "Collecting jsonpatch<2.0,>=1.33 (from langchain-core<0.4.0,>=0.3.27->langchain-community>=0.3.0->-r requirements.txt (line 1))\n",
      "  Using cached jsonpatch-1.33-py2.py3-none-any.whl.metadata (3.0 kB)\n",
      "Requirement already satisfied: packaging<25,>=23.2 in /usr/lib/python3/dist-packages (from langchain-core<0.4.0,>=0.3.27->langchain-community>=0.3.0->-r requirements.txt (line 1)) (23.2)\n",
      "Requirement already satisfied: requests-toolbelt<2.0.0,>=1.0.0 in /usr/lib/python3/dist-packages (from langsmith<0.3,>=0.1.125->langchain-community>=0.3.0->-r requirements.txt (line 1)) (1.0.0)\n",
      "Requirement already satisfied: anyio<5,>=3.5.0 in /usr/lib/python3/dist-packages (from openai<2.0.0,>=1.58.1->langchain-openai>=0.2.0->-r requirements.txt (line 3)) (3.7.0)\n",
      "Collecting distro<2,>=1.7.0 (from openai<2.0.0,>=1.58.1->langchain-openai>=0.2.0->-r requirements.txt (line 3))\n",
      "  Using cached distro-1.9.0-py3-none-any.whl.metadata (6.8 kB)\n",
      "Collecting jiter<1,>=0.4.0 (from openai<2.0.0,>=1.58.1->langchain-openai>=0.2.0->-r requirements.txt (line 3))\n",
      "  Using cached jiter-0.8.2-cp311-cp311-manylinux_2_17_x86_64.manylinux2014_x86_64.whl.metadata (5.2 kB)\n",
      "Requirement already satisfied: sniffio in /usr/lib/python3/dist-packages (from openai<2.0.0,>=1.58.1->langchain-openai>=0.2.0->-r requirements.txt (line 3)) (1.3.0)\n",
      "Requirement already satisfied: python-dotenv>=0.21.0 in /usr/lib/python3/dist-packages (from pydantic-settings<3.0.0,>=2.4.0->langchain-community>=0.3.0->-r requirements.txt (line 1)) (1.0.0)\n",
      "Requirement already satisfied: greenlet!=0.4.17 in /usr/lib/python3/dist-packages (from SQLAlchemy<3,>=1.4->langchain-community>=0.3.0->-r requirements.txt (line 1)) (2.0.2)\n",
      "Collecting regex>=2022.1.18 (from tiktoken<1,>=0.7->langchain-openai>=0.2.0->-r requirements.txt (line 3))\n",
      "  Using cached regex-2024.11.6-cp311-cp311-manylinux_2_17_x86_64.manylinux2014_x86_64.whl.metadata (40 kB)\n",
      "Requirement already satisfied: idna>=2.8 in /usr/lib/python3/dist-packages (from anyio<5,>=3.5.0->openai<2.0.0,>=1.58.1->langchain-openai>=0.2.0->-r requirements.txt (line 3)) (3.3)\n",
      "Collecting pyproject_hooks (from build>=1.0.3->chromadb!=0.5.4,!=0.5.5,<0.6.0,>=0.4.0->langchain-chroma>=0.1.0->-r requirements.txt (line 2))\n",
      "  Using cached pyproject_hooks-1.2.0-py3-none-any.whl.metadata (1.3 kB)\n",
      "Requirement already satisfied: certifi in /usr/lib/python3/dist-packages (from httpx>=0.27.0->chromadb!=0.5.4,!=0.5.5,<0.6.0,>=0.4.0->langchain-chroma>=0.1.0->-r requirements.txt (line 2)) (2023.7.22)\n",
      "Collecting httpcore==1.* (from httpx>=0.27.0->chromadb!=0.5.4,!=0.5.5,<0.6.0,>=0.4.0->langchain-chroma>=0.1.0->-r requirements.txt (line 2))\n",
      "  Using cached httpcore-1.0.7-py3-none-any.whl.metadata (21 kB)\n",
      "Requirement already satisfied: h11<0.15,>=0.13 in /usr/lib/python3/dist-packages (from httpcore==1.*->httpx>=0.27.0->chromadb!=0.5.4,!=0.5.5,<0.6.0,>=0.4.0->langchain-chroma>=0.1.0->-r requirements.txt (line 2)) (0.14.0)\n",
      "Requirement already satisfied: jsonpointer>=1.9 in /usr/lib/python3/dist-packages (from jsonpatch<2.0,>=1.33->langchain-core<0.4.0,>=0.3.27->langchain-community>=0.3.0->-r requirements.txt (line 1)) (2.3)\n",
      "Requirement already satisfied: six>=1.9.0 in /usr/lib/python3/dist-packages (from kubernetes>=28.1.0->chromadb!=0.5.4,!=0.5.5,<0.6.0,>=0.4.0->langchain-chroma>=0.1.0->-r requirements.txt (line 2)) (1.16.0)\n",
      "Requirement already satisfied: python-dateutil>=2.5.3 in /usr/lib/python3/dist-packages (from kubernetes>=28.1.0->chromadb!=0.5.4,!=0.5.5,<0.6.0,>=0.4.0->langchain-chroma>=0.1.0->-r requirements.txt (line 2)) (2.8.2)\n",
      "Collecting google-auth>=1.0.1 (from kubernetes>=28.1.0->chromadb!=0.5.4,!=0.5.5,<0.6.0,>=0.4.0->langchain-chroma>=0.1.0->-r requirements.txt (line 2))\n",
      "  Using cached google_auth-2.37.0-py2.py3-none-any.whl.metadata (4.8 kB)\n",
      "Requirement already satisfied: websocket-client!=0.40.0,!=0.41.*,!=0.42.*,>=0.32.0 in /usr/lib/python3/dist-packages (from kubernetes>=28.1.0->chromadb!=0.5.4,!=0.5.5,<0.6.0,>=0.4.0->langchain-chroma>=0.1.0->-r requirements.txt (line 2)) (1.2.3)\n",
      "Collecting requests-oauthlib (from kubernetes>=28.1.0->chromadb!=0.5.4,!=0.5.5,<0.6.0,>=0.4.0->langchain-chroma>=0.1.0->-r requirements.txt (line 2))\n",
      "  Using cached requests_oauthlib-2.0.0-py2.py3-none-any.whl.metadata (11 kB)\n",
      "Collecting oauthlib>=3.2.2 (from kubernetes>=28.1.0->chromadb!=0.5.4,!=0.5.5,<0.6.0,>=0.4.0->langchain-chroma>=0.1.0->-r requirements.txt (line 2))\n",
      "  Using cached oauthlib-3.2.2-py3-none-any.whl.metadata (7.5 kB)\n",
      "Requirement already satisfied: urllib3>=1.24.2 in /usr/lib/python3/dist-packages (from kubernetes>=28.1.0->chromadb!=0.5.4,!=0.5.5,<0.6.0,>=0.4.0->langchain-chroma>=0.1.0->-r requirements.txt (line 2)) (1.26.18)\n",
      "Collecting durationpy>=0.7 (from kubernetes>=28.1.0->chromadb!=0.5.4,!=0.5.5,<0.6.0,>=0.4.0->langchain-chroma>=0.1.0->-r requirements.txt (line 2))\n",
      "  Using cached durationpy-0.9-py3-none-any.whl.metadata (338 bytes)\n",
      "Collecting coloredlogs (from onnxruntime>=1.14.1->chromadb!=0.5.4,!=0.5.5,<0.6.0,>=0.4.0->langchain-chroma>=0.1.0->-r requirements.txt (line 2))\n",
      "  Using cached coloredlogs-15.0.1-py2.py3-none-any.whl.metadata (12 kB)\n",
      "Collecting flatbuffers (from onnxruntime>=1.14.1->chromadb!=0.5.4,!=0.5.5,<0.6.0,>=0.4.0->langchain-chroma>=0.1.0->-r requirements.txt (line 2))\n",
      "  Using cached flatbuffers-24.3.25-py2.py3-none-any.whl.metadata (850 bytes)\n",
      "Requirement already satisfied: protobuf in /usr/lib/python3/dist-packages (from onnxruntime>=1.14.1->chromadb!=0.5.4,!=0.5.5,<0.6.0,>=0.4.0->langchain-chroma>=0.1.0->-r requirements.txt (line 2)) (4.21.12)\n",
      "Requirement already satisfied: sympy in /usr/lib/python3/dist-packages (from onnxruntime>=1.14.1->chromadb!=0.5.4,!=0.5.5,<0.6.0,>=0.4.0->langchain-chroma>=0.1.0->-r requirements.txt (line 2)) (1.12)\n",
      "Requirement already satisfied: deprecated>=1.2.6 in /usr/lib/python3/dist-packages (from opentelemetry-api>=1.2.0->chromadb!=0.5.4,!=0.5.5,<0.6.0,>=0.4.0->langchain-chroma>=0.1.0->-r requirements.txt (line 2)) (1.2.14)\n",
      "Collecting importlib-metadata<=8.5.0,>=6.0 (from opentelemetry-api>=1.2.0->chromadb!=0.5.4,!=0.5.5,<0.6.0,>=0.4.0->langchain-chroma>=0.1.0->-r requirements.txt (line 2))\n",
      "  Using cached importlib_metadata-8.5.0-py3-none-any.whl.metadata (4.8 kB)\n",
      "Collecting googleapis-common-protos~=1.52 (from opentelemetry-exporter-otlp-proto-grpc>=1.2.0->chromadb!=0.5.4,!=0.5.5,<0.6.0,>=0.4.0->langchain-chroma>=0.1.0->-r requirements.txt (line 2))\n",
      "  Using cached googleapis_common_protos-1.66.0-py2.py3-none-any.whl.metadata (1.5 kB)\n",
      "Collecting opentelemetry-exporter-otlp-proto-common==1.29.0 (from opentelemetry-exporter-otlp-proto-grpc>=1.2.0->chromadb!=0.5.4,!=0.5.5,<0.6.0,>=0.4.0->langchain-chroma>=0.1.0->-r requirements.txt (line 2))\n",
      "  Using cached opentelemetry_exporter_otlp_proto_common-1.29.0-py3-none-any.whl.metadata (1.8 kB)\n",
      "Collecting opentelemetry-proto==1.29.0 (from opentelemetry-exporter-otlp-proto-grpc>=1.2.0->chromadb!=0.5.4,!=0.5.5,<0.6.0,>=0.4.0->langchain-chroma>=0.1.0->-r requirements.txt (line 2))\n",
      "  Using cached opentelemetry_proto-1.29.0-py3-none-any.whl.metadata (2.3 kB)\n",
      "Collecting protobuf (from onnxruntime>=1.14.1->chromadb!=0.5.4,!=0.5.5,<0.6.0,>=0.4.0->langchain-chroma>=0.1.0->-r requirements.txt (line 2))\n",
      "  Using cached protobuf-5.29.2-cp38-abi3-manylinux2014_x86_64.whl.metadata (592 bytes)\n",
      "Collecting opentelemetry-instrumentation-asgi==0.50b0 (from opentelemetry-instrumentation-fastapi>=0.41b0->chromadb!=0.5.4,!=0.5.5,<0.6.0,>=0.4.0->langchain-chroma>=0.1.0->-r requirements.txt (line 2))\n",
      "  Using cached opentelemetry_instrumentation_asgi-0.50b0-py3-none-any.whl.metadata (1.9 kB)\n",
      "Collecting opentelemetry-instrumentation==0.50b0 (from opentelemetry-instrumentation-fastapi>=0.41b0->chromadb!=0.5.4,!=0.5.5,<0.6.0,>=0.4.0->langchain-chroma>=0.1.0->-r requirements.txt (line 2))\n",
      "  Using cached opentelemetry_instrumentation-0.50b0-py3-none-any.whl.metadata (6.1 kB)\n",
      "Collecting opentelemetry-semantic-conventions==0.50b0 (from opentelemetry-instrumentation-fastapi>=0.41b0->chromadb!=0.5.4,!=0.5.5,<0.6.0,>=0.4.0->langchain-chroma>=0.1.0->-r requirements.txt (line 2))\n",
      "  Using cached opentelemetry_semantic_conventions-0.50b0-py3-none-any.whl.metadata (2.3 kB)\n",
      "Collecting opentelemetry-util-http==0.50b0 (from opentelemetry-instrumentation-fastapi>=0.41b0->chromadb!=0.5.4,!=0.5.5,<0.6.0,>=0.4.0->langchain-chroma>=0.1.0->-r requirements.txt (line 2))\n",
      "  Using cached opentelemetry_util_http-0.50b0-py3-none-any.whl.metadata (2.5 kB)\n",
      "Requirement already satisfied: wrapt<2.0.0,>=1.0.0 in /usr/lib/python3/dist-packages (from opentelemetry-instrumentation==0.50b0->opentelemetry-instrumentation-fastapi>=0.41b0->chromadb!=0.5.4,!=0.5.5,<0.6.0,>=0.4.0->langchain-chroma>=0.1.0->-r requirements.txt (line 2)) (1.15.0)\n",
      "Requirement already satisfied: asgiref~=3.0 in /usr/lib/python3/dist-packages (from opentelemetry-instrumentation-asgi==0.50b0->opentelemetry-instrumentation-fastapi>=0.41b0->chromadb!=0.5.4,!=0.5.5,<0.6.0,>=0.4.0->langchain-chroma>=0.1.0->-r requirements.txt (line 2)) (3.7.2)\n",
      "Collecting monotonic>=1.5 (from posthog>=2.4.0->chromadb!=0.5.4,!=0.5.5,<0.6.0,>=0.4.0->langchain-chroma>=0.1.0->-r requirements.txt (line 2))\n",
      "  Using cached monotonic-1.6-py2.py3-none-any.whl.metadata (1.5 kB)\n",
      "Requirement already satisfied: backoff>=1.10.0 in /usr/lib/python3/dist-packages (from posthog>=2.4.0->chromadb!=0.5.4,!=0.5.5,<0.6.0,>=0.4.0->langchain-chroma>=0.1.0->-r requirements.txt (line 2)) (2.2.1)\n",
      "Collecting markdown-it-py<3.0.0,>=2.1.0 (from rich>=10.11.0->chromadb!=0.5.4,!=0.5.5,<0.6.0,>=0.4.0->langchain-chroma>=0.1.0->-r requirements.txt (line 2))\n",
      "  Downloading markdown_it_py-2.2.0-py3-none-any.whl.metadata (6.8 kB)\n",
      "Requirement already satisfied: pygments<3.0.0,>=2.14.0 in /usr/lib/python3/dist-packages (from rich>=10.11.0->chromadb!=0.5.4,!=0.5.5,<0.6.0,>=0.4.0->langchain-chroma>=0.1.0->-r requirements.txt (line 2)) (2.15.1)\n",
      "Collecting huggingface-hub<1.0,>=0.16.4 (from tokenizers<=0.20.3,>=0.13.2->chromadb!=0.5.4,!=0.5.5,<0.6.0,>=0.4.0->langchain-chroma>=0.1.0->-r requirements.txt (line 2))\n",
      "  Using cached huggingface_hub-0.27.0-py3-none-any.whl.metadata (13 kB)\n",
      "Requirement already satisfied: click>=8.0.0 in /usr/lib/python3/dist-packages (from typer>=0.9.0->chromadb!=0.5.4,!=0.5.5,<0.6.0,>=0.4.0->langchain-chroma>=0.1.0->-r requirements.txt (line 2)) (8.1.6)\n",
      "Collecting shellingham>=1.3.0 (from typer>=0.9.0->chromadb!=0.5.4,!=0.5.5,<0.6.0,>=0.4.0->langchain-chroma>=0.1.0->-r requirements.txt (line 2))\n",
      "  Using cached shellingham-1.5.4-py2.py3-none-any.whl.metadata (3.5 kB)\n",
      "Collecting mypy-extensions>=0.3.0 (from typing-inspect<1,>=0.4.0->dataclasses-json<0.7,>=0.5.7->langchain-community>=0.3.0->-r requirements.txt (line 1))\n",
      "  Using cached mypy_extensions-1.0.0-py3-none-any.whl.metadata (1.1 kB)\n",
      "Collecting httptools>=0.5.0 (from uvicorn[standard]>=0.18.3->chromadb!=0.5.4,!=0.5.5,<0.6.0,>=0.4.0->langchain-chroma>=0.1.0->-r requirements.txt (line 2))\n",
      "  Using cached httptools-0.6.4-cp311-cp311-manylinux_2_5_x86_64.manylinux1_x86_64.manylinux_2_17_x86_64.manylinux2014_x86_64.whl.metadata (3.6 kB)\n",
      "Requirement already satisfied: uvloop!=0.15.0,!=0.15.1,>=0.14.0 in /usr/lib/python3/dist-packages (from uvicorn[standard]>=0.18.3->chromadb!=0.5.4,!=0.5.5,<0.6.0,>=0.4.0->langchain-chroma>=0.1.0->-r requirements.txt (line 2)) (0.19.0)\n",
      "Collecting watchfiles>=0.13 (from uvicorn[standard]>=0.18.3->chromadb!=0.5.4,!=0.5.5,<0.6.0,>=0.4.0->langchain-chroma>=0.1.0->-r requirements.txt (line 2))\n",
      "  Using cached watchfiles-1.0.3-cp311-cp311-manylinux_2_17_x86_64.manylinux2014_x86_64.whl.metadata (4.9 kB)\n",
      "Requirement already satisfied: websockets>=10.4 in /usr/lib/python3/dist-packages (from uvicorn[standard]>=0.18.3->chromadb!=0.5.4,!=0.5.5,<0.6.0,>=0.4.0->langchain-chroma>=0.1.0->-r requirements.txt (line 2)) (10.4)\n",
      "Collecting cachetools<6.0,>=2.0.0 (from google-auth>=1.0.1->kubernetes>=28.1.0->chromadb!=0.5.4,!=0.5.5,<0.6.0,>=0.4.0->langchain-chroma>=0.1.0->-r requirements.txt (line 2))\n",
      "  Using cached cachetools-5.5.0-py3-none-any.whl.metadata (5.3 kB)\n",
      "Requirement already satisfied: pyasn1-modules>=0.2.1 in /usr/lib/python3/dist-packages (from google-auth>=1.0.1->kubernetes>=28.1.0->chromadb!=0.5.4,!=0.5.5,<0.6.0,>=0.4.0->langchain-chroma>=0.1.0->-r requirements.txt (line 2)) (0.2.8)\n",
      "Requirement already satisfied: rsa<5,>=3.1.4 in /usr/lib/python3/dist-packages (from google-auth>=1.0.1->kubernetes>=28.1.0->chromadb!=0.5.4,!=0.5.5,<0.6.0,>=0.4.0->langchain-chroma>=0.1.0->-r requirements.txt (line 2)) (4.8)\n",
      "Requirement already satisfied: filelock in /usr/lib/python3/dist-packages (from huggingface-hub<1.0,>=0.16.4->tokenizers<=0.20.3,>=0.13.2->chromadb!=0.5.4,!=0.5.5,<0.6.0,>=0.4.0->langchain-chroma>=0.1.0->-r requirements.txt (line 2)) (3.12.4)\n",
      "Collecting fsspec>=2023.5.0 (from huggingface-hub<1.0,>=0.16.4->tokenizers<=0.20.3,>=0.13.2->chromadb!=0.5.4,!=0.5.5,<0.6.0,>=0.4.0->langchain-chroma>=0.1.0->-r requirements.txt (line 2))\n",
      "  Using cached fsspec-2024.12.0-py3-none-any.whl.metadata (11 kB)\n",
      "Collecting zipp>=3.20 (from importlib-metadata<=8.5.0,>=6.0->opentelemetry-api>=1.2.0->chromadb!=0.5.4,!=0.5.5,<0.6.0,>=0.4.0->langchain-chroma>=0.1.0->-r requirements.txt (line 2))\n",
      "  Using cached zipp-3.21.0-py3-none-any.whl.metadata (3.7 kB)\n",
      "Requirement already satisfied: mdurl~=0.1 in /usr/lib/python3/dist-packages (from markdown-it-py<3.0.0,>=2.1.0->rich>=10.11.0->chromadb!=0.5.4,!=0.5.5,<0.6.0,>=0.4.0->langchain-chroma>=0.1.0->-r requirements.txt (line 2)) (0.1.2)\n",
      "Collecting humanfriendly>=9.1 (from coloredlogs->onnxruntime>=1.14.1->chromadb!=0.5.4,!=0.5.5,<0.6.0,>=0.4.0->langchain-chroma>=0.1.0->-r requirements.txt (line 2))\n",
      "  Using cached humanfriendly-10.0-py2.py3-none-any.whl.metadata (9.2 kB)\n",
      "Using cached langchain_community-0.3.13-py3-none-any.whl (2.5 MB)\n",
      "Using cached langchain_chroma-0.1.4-py3-none-any.whl (10 kB)\n",
      "Using cached langchain_openai-0.2.14-py3-none-any.whl (50 kB)\n",
      "Using cached langchain-0.3.13-py3-none-any.whl (1.0 MB)\n",
      "Using cached pydantic-2.10.4-py3-none-any.whl (431 kB)\n",
      "Using cached pydantic_core-2.27.2-cp311-cp311-manylinux_2_17_x86_64.manylinux2014_x86_64.whl (2.0 MB)\n",
      "Using cached annotated_types-0.7.0-py3-none-any.whl (13 kB)\n",
      "Using cached chromadb-0.5.23-py3-none-any.whl (628 kB)\n",
      "Using cached chroma_hnswlib-0.7.6-cp311-cp311-manylinux_2_17_x86_64.manylinux2014_x86_64.whl (2.4 MB)\n",
      "Using cached dataclasses_json-0.6.7-py3-none-any.whl (28 kB)\n",
      "Using cached httpx_sse-0.4.0-py3-none-any.whl (7.8 kB)\n",
      "Using cached langchain_core-0.3.28-py3-none-any.whl (411 kB)\n",
      "Using cached langchain_text_splitters-0.3.4-py3-none-any.whl (27 kB)\n",
      "Using cached langsmith-0.2.4-py3-none-any.whl (320 kB)\n",
      "Using cached openai-1.58.1-py3-none-any.whl (454 kB)\n",
      "Using cached pydantic_settings-2.7.0-py3-none-any.whl (29 kB)\n",
      "Using cached tenacity-9.0.0-py3-none-any.whl (28 kB)\n",
      "Using cached tiktoken-0.8.0-cp311-cp311-manylinux_2_17_x86_64.manylinux2014_x86_64.whl (1.2 MB)\n",
      "Using cached typing_extensions-4.12.2-py3-none-any.whl (37 kB)\n",
      "Using cached bcrypt-4.2.1-cp39-abi3-manylinux_2_28_x86_64.whl (278 kB)\n",
      "Using cached build-1.2.2.post1-py3-none-any.whl (22 kB)\n",
      "Using cached distro-1.9.0-py3-none-any.whl (20 kB)\n",
      "Using cached grpcio-1.68.1-cp311-cp311-manylinux_2_17_x86_64.manylinux2014_x86_64.whl (5.9 MB)\n",
      "Using cached httpx-0.28.1-py3-none-any.whl (73 kB)\n",
      "Using cached httpcore-1.0.7-py3-none-any.whl (78 kB)\n",
      "Using cached jiter-0.8.2-cp311-cp311-manylinux_2_17_x86_64.manylinux2014_x86_64.whl (345 kB)\n",
      "Using cached jsonpatch-1.33-py2.py3-none-any.whl (12 kB)\n",
      "Using cached kubernetes-31.0.0-py2.py3-none-any.whl (1.9 MB)\n",
      "Using cached marshmallow-3.23.2-py3-none-any.whl (49 kB)\n",
      "Using cached mmh3-5.0.1-cp311-cp311-manylinux_2_5_x86_64.manylinux1_x86_64.manylinux_2_17_x86_64.manylinux2014_x86_64.whl (94 kB)\n",
      "Using cached onnxruntime-1.20.1-cp311-cp311-manylinux_2_27_x86_64.manylinux_2_28_x86_64.whl (13.3 MB)\n",
      "Using cached opentelemetry_api-1.29.0-py3-none-any.whl (64 kB)\n",
      "Using cached opentelemetry_exporter_otlp_proto_grpc-1.29.0-py3-none-any.whl (18 kB)\n",
      "Using cached opentelemetry_exporter_otlp_proto_common-1.29.0-py3-none-any.whl (18 kB)\n",
      "Using cached opentelemetry_proto-1.29.0-py3-none-any.whl (55 kB)\n",
      "Using cached opentelemetry_instrumentation_fastapi-0.50b0-py3-none-any.whl (12 kB)\n",
      "Using cached opentelemetry_instrumentation-0.50b0-py3-none-any.whl (30 kB)\n",
      "Using cached opentelemetry_instrumentation_asgi-0.50b0-py3-none-any.whl (16 kB)\n",
      "Using cached opentelemetry_semantic_conventions-0.50b0-py3-none-any.whl (166 kB)\n",
      "Using cached opentelemetry_util_http-0.50b0-py3-none-any.whl (6.9 kB)\n",
      "Using cached opentelemetry_sdk-1.29.0-py3-none-any.whl (118 kB)\n",
      "Using cached orjson-3.10.12-cp311-cp311-manylinux_2_17_x86_64.manylinux2014_x86_64.whl (131 kB)\n",
      "Using cached overrides-7.7.0-py3-none-any.whl (17 kB)\n",
      "Using cached posthog-3.7.4-py2.py3-none-any.whl (54 kB)\n",
      "Using cached regex-2024.11.6-cp311-cp311-manylinux_2_17_x86_64.manylinux2014_x86_64.whl (792 kB)\n",
      "Downloading starlette-0.27.0-py3-none-any.whl (66 kB)\n",
      "\u001b[2K   \u001b[90m━━━━━━━━━━━━━━━━━━━━━━━━━━━━━━━━━━━━━━━━\u001b[0m \u001b[32m67.0/67.0 kB\u001b[0m \u001b[31m2.0 MB/s\u001b[0m eta \u001b[36m0:00:00\u001b[0m\n",
      "\u001b[?25hUsing cached tokenizers-0.20.3-cp311-cp311-manylinux_2_17_x86_64.manylinux2014_x86_64.whl (3.0 MB)\n",
      "Using cached tqdm-4.67.1-py3-none-any.whl (78 kB)\n",
      "Using cached typer-0.15.1-py3-none-any.whl (44 kB)\n",
      "Using cached typing_inspect-0.9.0-py3-none-any.whl (8.8 kB)\n",
      "Using cached durationpy-0.9-py3-none-any.whl (3.5 kB)\n",
      "Using cached google_auth-2.37.0-py2.py3-none-any.whl (209 kB)\n",
      "Using cached googleapis_common_protos-1.66.0-py2.py3-none-any.whl (221 kB)\n",
      "Using cached httptools-0.6.4-cp311-cp311-manylinux_2_5_x86_64.manylinux1_x86_64.manylinux_2_17_x86_64.manylinux2014_x86_64.whl (459 kB)\n",
      "Using cached huggingface_hub-0.27.0-py3-none-any.whl (450 kB)\n",
      "Using cached importlib_metadata-8.5.0-py3-none-any.whl (26 kB)\n",
      "Downloading markdown_it_py-2.2.0-py3-none-any.whl (84 kB)\n",
      "\u001b[2K   \u001b[90m━━━━━━━━━━━━━━━━━━━━━━━━━━━━━━━━━━━━━━━━\u001b[0m \u001b[32m84.5/84.5 kB\u001b[0m \u001b[31m5.6 MB/s\u001b[0m eta \u001b[36m0:00:00\u001b[0m\n",
      "\u001b[?25hUsing cached monotonic-1.6-py2.py3-none-any.whl (8.2 kB)\n",
      "Using cached mypy_extensions-1.0.0-py3-none-any.whl (4.7 kB)\n",
      "Using cached oauthlib-3.2.2-py3-none-any.whl (151 kB)\n",
      "Using cached protobuf-5.29.2-cp38-abi3-manylinux2014_x86_64.whl (319 kB)\n",
      "Using cached shellingham-1.5.4-py2.py3-none-any.whl (9.8 kB)\n",
      "Using cached watchfiles-1.0.3-cp311-cp311-manylinux_2_17_x86_64.manylinux2014_x86_64.whl (443 kB)\n",
      "Using cached coloredlogs-15.0.1-py2.py3-none-any.whl (46 kB)\n",
      "Using cached flatbuffers-24.3.25-py2.py3-none-any.whl (26 kB)\n",
      "Using cached pyproject_hooks-1.2.0-py3-none-any.whl (10 kB)\n",
      "Using cached requests_oauthlib-2.0.0-py2.py3-none-any.whl (24 kB)\n",
      "Using cached cachetools-5.5.0-py3-none-any.whl (9.5 kB)\n",
      "Using cached fsspec-2024.12.0-py3-none-any.whl (183 kB)\n",
      "Using cached humanfriendly-10.0-py2.py3-none-any.whl (86 kB)\n",
      "Using cached zipp-3.21.0-py3-none-any.whl (9.6 kB)\n",
      "Installing collected packages: pypika, monotonic, flatbuffers, durationpy, zipp, typing-extensions, tqdm, tenacity, shellingham, regex, pyproject_hooks, protobuf, posthog, overrides, orjson, opentelemetry-util-http, oauthlib, mypy-extensions, mmh3, marshmallow, markdown-it-py, jsonpatch, jiter, humanfriendly, httpx-sse, httptools, httpcore, grpcio, fsspec, distro, chroma-hnswlib, cachetools, bcrypt, annotated-types, watchfiles, typing-inspect, tiktoken, starlette, requests-oauthlib, pydantic-core, opentelemetry-proto, importlib-metadata, huggingface-hub, httpx, googleapis-common-protos, google-auth, coloredlogs, build, typer, tokenizers, pydantic, opentelemetry-exporter-otlp-proto-common, opentelemetry-api, onnxruntime, kubernetes, dataclasses-json, pydantic-settings, opentelemetry-semantic-conventions, openai, langsmith, opentelemetry-sdk, opentelemetry-instrumentation, langchain-core, opentelemetry-instrumentation-asgi, opentelemetry-exporter-otlp-proto-grpc, langchain-text-splitters, langchain-openai, opentelemetry-instrumentation-fastapi, langchain, langchain-community, chromadb, langchain-chroma\n",
      "\u001b[31mERROR: pip's dependency resolver does not currently take into account all the packages that are installed. This behaviour is the source of the following dependency conflicts.\n",
      "mitmproxy 10.1.5 requires aioquic-mitmproxy<0.10,>=0.9.21, which is not installed.\n",
      "mitmproxy 10.1.5 requires mitmproxy-rs<0.5,>=0.4, which is not installed.\n",
      "mitmproxy 10.1.5 requires urwid-mitmproxy<2.2,>=2.1.1, which is not installed.\n",
      "mysql-connector-python 8.2.0 requires protobuf<=4.21.12,>=4.21.1, but you have protobuf 5.29.2 which is incompatible.\n",
      "pyppeteer 1.0.1 requires pyee<9.0.0,>=8.1.0, but you have pyee 9.0.4 which is incompatible.\n",
      "mitmproxy 10.1.5 requires protobuf<5,>=3.14, but you have protobuf 5.29.2 which is incompatible.\n",
      "crackmapexec 5.4.0 requires aioconsole<0.4.0,>=0.3.3, but you have aioconsole 0.6.2 which is incompatible.\n",
      "crackmapexec 5.4.0 requires minikerberos==0.3.3, but you have minikerberos 0.4.0 which is incompatible.\n",
      "crackmapexec 5.4.0 requires neo4j<5.0.0,>=4.1.1, but you have neo4j 5.2.dev0 which is incompatible.\n",
      "crackmapexec 5.4.0 requires pypsrp<0.8.0,>=0.7.0, but you have pypsrp 0.8.1 which is incompatible.\n",
      "crackmapexec 5.4.0 requires xmltodict<0.13.0,>=0.12.0, but you have xmltodict 0.13.0 which is incompatible.\u001b[0m\u001b[31m\n",
      "\u001b[0mSuccessfully installed annotated-types-0.7.0 bcrypt-4.2.1 build-1.2.2.post1 cachetools-5.5.0 chroma-hnswlib-0.7.6 chromadb-0.5.23 coloredlogs-15.0.1 dataclasses-json-0.6.7 distro-1.9.0 durationpy-0.9 flatbuffers-24.3.25 fsspec-2024.12.0 google-auth-2.37.0 googleapis-common-protos-1.66.0 grpcio-1.68.1 httpcore-1.0.7 httptools-0.6.4 httpx-0.28.1 httpx-sse-0.4.0 huggingface-hub-0.27.0 humanfriendly-10.0 importlib-metadata-8.5.0 jiter-0.8.2 jsonpatch-1.33 kubernetes-31.0.0 langchain-0.3.13 langchain-chroma-0.1.4 langchain-community-0.3.13 langchain-core-0.3.28 langchain-openai-0.2.14 langchain-text-splitters-0.3.4 langsmith-0.2.4 markdown-it-py-2.2.0 marshmallow-3.23.2 mmh3-5.0.1 monotonic-1.6 mypy-extensions-1.0.0 oauthlib-3.2.2 onnxruntime-1.20.1 openai-1.58.1 opentelemetry-api-1.29.0 opentelemetry-exporter-otlp-proto-common-1.29.0 opentelemetry-exporter-otlp-proto-grpc-1.29.0 opentelemetry-instrumentation-0.50b0 opentelemetry-instrumentation-asgi-0.50b0 opentelemetry-instrumentation-fastapi-0.50b0 opentelemetry-proto-1.29.0 opentelemetry-sdk-1.29.0 opentelemetry-semantic-conventions-0.50b0 opentelemetry-util-http-0.50b0 orjson-3.10.12 overrides-7.7.0 posthog-3.7.4 protobuf-5.29.2 pydantic-2.10.4 pydantic-core-2.27.2 pydantic-settings-2.7.0 pypika-0.48.9 pyproject_hooks-1.2.0 regex-2024.11.6 requests-oauthlib-2.0.0 shellingham-1.5.4 starlette-0.27.0 tenacity-9.0.0 tiktoken-0.8.0 tokenizers-0.20.3 tqdm-4.67.1 typer-0.15.1 typing-extensions-4.12.2 typing-inspect-0.9.0 watchfiles-1.0.3 zipp-3.21.0\n",
      "Note: you may need to restart the kernel to use updated packages.\n"
     ]
    }
   ],
   "source": [
    "%pip install -r requirements.txt"
   ]
  },
  {
   "cell_type": "markdown",
   "metadata": {},
   "source": [
    "Import monopoly simulator\n",
    "\n",
    "(Note for future: We should install the game simulator as a package)"
   ]
  },
  {
   "cell_type": "code",
   "execution_count": 1,
   "metadata": {},
   "outputs": [],
   "source": [
    "from simulator.monosim.player import Player\n",
    "from simulator.monosim.board import get_board, get_roads, get_properties, get_community_chest_cards, get_bank"
   ]
  },
  {
   "cell_type": "markdown",
   "metadata": {},
   "source": [
    "Importing other dependencies"
   ]
  },
  {
   "cell_type": "code",
   "execution_count": 4,
   "metadata": {},
   "outputs": [],
   "source": [
    "# LangChain\n",
    "from langchain_openai import ChatOpenAI\n",
    "from langchain import OpenAI, LLMChain, PromptTemplate\n",
    "\n",
    "# other imports\n",
    "from pydantic import BaseModel, Field\n",
    "from typing import List\n",
    "\n",
    "# dotenv for loading API keys\n",
    "import os\n",
    "from dotenv import load_dotenv"
   ]
  },
  {
   "cell_type": "code",
   "execution_count": 6,
   "metadata": {},
   "outputs": [],
   "source": [
    "# Load API keys from .env file\n",
    "load_dotenv()\n",
    "\n",
    "# Define the API keys\n",
    "openai_key = os.getenv(\"OPENAI_API_KEY\")"
   ]
  },
  {
   "cell_type": "markdown",
   "metadata": {},
   "source": [
    "### Game Functions\n",
    "Wrappers that retrieves relevant game state(s)"
   ]
  },
  {
   "cell_type": "code",
   "execution_count": 7,
   "metadata": {},
   "outputs": [],
   "source": [
    "def initialize_game() -> dict:\n",
    "    \"\"\"\n",
    "    Initializes a game with two players and sets up the bank, board, roads, properties, \n",
    "    and community chest cards.\n",
    "    \n",
    "    Returns:\n",
    "        dict: A dictionary containing the following:\n",
    "            - \"bank\": Game's bank object.\n",
    "            - \"board\": Main game board.\n",
    "            - \"roads\": List of road objects.\n",
    "            - \"properties\": List of property objects.\n",
    "            - \"community_chest_cards\": Dictionary of community chest cards.\n",
    "            - \"players\": List of two Player objects, with Player 1 first.\n",
    "    \"\"\"\n",
    "    \n",
    "    bank = get_bank()\n",
    "    board = get_board()\n",
    "    roads = get_roads()\n",
    "    properties = get_properties()\n",
    "    community_chest_cards = get_community_chest_cards()\n",
    "    community_cards_deck = list(community_chest_cards.keys())\n",
    "\n",
    "    player1 = Player('player1', 1, bank, board, roads, properties, community_cards_deck)\n",
    "    player2 = Player('player2', 2, bank, board, roads, properties, community_cards_deck)\n",
    "    \n",
    "    player1.meet_other_players([player2])\n",
    "    player2.meet_other_players([player1])\n",
    "    \n",
    "    return {\n",
    "        \"bank\": bank,\n",
    "        \"board\": board,\n",
    "        \"roads\": roads,\n",
    "        \"properties\": properties,\n",
    "        \"community_chest_cards\": community_chest_cards,\n",
    "        \"players\": [player1, player2] # For now, player 1 always comes first\n",
    "    }"
   ]
  },
  {
   "cell_type": "code",
   "execution_count": 8,
   "metadata": {},
   "outputs": [],
   "source": [
    "def get_current_state(players) -> dict:\n",
    "    \"\"\"\n",
    "    Retrieves the current state of each player, including position, owned roads, \n",
    "    money, mortgaged properties, and other status details.\n",
    "\n",
    "    Args:\n",
    "        players (list[Player]): List of Player objects in the game.\n",
    "\n",
    "    Returns:\n",
    "        dict: A dictionary containing:\n",
    "            - \"players\": A list of dictionaries, each with a player's state.\n",
    "    \"\"\"\n",
    "    \n",
    "    current_state = {\n",
    "        \"players\": [{\"state\": player.get_state()} for player in players]\n",
    "    }\n",
    "    return current_state"
   ]
  },
  {
   "cell_type": "code",
   "execution_count": 15,
   "metadata": {},
   "outputs": [
    {
     "data": {
      "text/plain": [
       "{'cash': 5000, 'houses': 32, 'hotels': 12}"
      ]
     },
     "execution_count": 15,
     "metadata": {},
     "output_type": "execute_result"
    }
   ],
   "source": [
    "# Example usage of the above function\n",
    "game = initialize_game()\n",
    "game[\"bank\"]"
   ]
  },
  {
   "cell_type": "markdown",
   "metadata": {},
   "source": [
    "### Prompt Template\n",
    "\n",
    "The following defines a customizable prompt template for an agent in a Monopoly game. Each part of the template is easily customizable using placeholders for various game elements."
   ]
  },
  {
   "cell_type": "code",
   "execution_count": 12,
   "metadata": {},
   "outputs": [],
   "source": [
    "# The agent plays as Player 1 by default\n",
    "agent_role = \"Player 1\" "
   ]
  },
  {
   "cell_type": "code",
   "execution_count": 13,
   "metadata": {},
   "outputs": [],
   "source": [
    "# prompt template wrapper / hook, a function that returns a string\n",
    "def prompt_template():\n",
    "    \"\"\"\n",
    "    Generates a formatted prompt string for an agent in a Monopoly game, detailing \n",
    "    the game's current state and guiding strategic decision-making.\n",
    "\n",
    "    Returns:\n",
    "        str: A prompt template string with placeholders for:\n",
    "            - {agent_role}: The role of the agent in the game.\n",
    "            - {initial_bank}: Initial bank details.\n",
    "            - {initial_board}: Initial board configuration.\n",
    "            - {initial_roads}: List of roads.\n",
    "            - {initial_properties}: List of properties.\n",
    "\n",
    "    Usage:\n",
    "        Substitute placeholders to customize the prompt with the game state.\n",
    "    \"\"\"\n",
    "    \n",
    "    return  \"\"\"\n",
    "        You are the {agent_role} in a Monopoly game. Here is the current game state:\n",
    "\n",
    "        Bank:\n",
    "        {initial_bank}\n",
    "\n",
    "        Board:\n",
    "        {initial_board}\n",
    "\n",
    "        Roads:\n",
    "        {initial_roads}\n",
    "\n",
    "        Properties:\n",
    "        {initial_properties}\n",
    "\n",
    "        Players:\n",
    "        Player 1 and Player 2\n",
    "\n",
    "        Your Objective:\n",
    "        Given the current state of the game, make strategic moves that maximizes your chances of winning.\n",
    "\n",
    "        Guidelines:\n",
    "        1. Analyze each component of the game state to understand your current situation.\n",
    "        2. Consider any immediate risks or opportunities from property ownership, player positions, or your current balance.\n",
    "\n",
    "        Instructions:\n",
    "        - Reason step-by-step to ensure your action aligns with the game’s rules and overall strategy.\n",
    "        - Provide your next move by determining if you should buy the property or not (yes or no)\n",
    "  \"\"\""
   ]
  },
  {
   "cell_type": "code",
   "execution_count": 16,
   "metadata": {},
   "outputs": [
    {
     "name": "stdout",
     "output_type": "stream",
     "text": [
      "\n",
      "        You are the Player 1 in a Monopoly game. Here is the current game state:\n",
      "\n",
      "        Bank:\n",
      "        {'cash': 5000, 'houses': 32, 'hotels': 12}\n",
      "\n",
      "        Board:\n",
      "        [{'name': 'go', 'type': 'go'}, {'name': 'old kent road', 'type': 'road'}, {'name': 'community chest', 'type': 'community chest'}, {'name': 'whitechapel road', 'type': 'road'}, {'name': 'income tax', 'type': 'tax'}, {'name': 'kings cross station', 'type': 'station'}, {'name': 'the angel islington', 'type': 'road'}, {'name': 'chance', 'type': 'chance'}, {'name': 'euston road', 'type': 'road'}, {'name': 'pentonville road', 'type': 'road'}, {'name': 'jail', 'type': 'jail'}, {'name': 'pall mall', 'type': 'road'}, {'name': 'Electric company', 'type': 'utility'}, {'name': 'whitehall', 'type': 'road'}, {'name': 'northumberland avenue', 'type': 'road'}, {'name': 'marylebone station', 'type': 'station'}, {'name': 'bow street', 'type': 'road'}, {'name': 'community chest', 'type': 'community chest'}, {'name': 'marlborough street', 'type': 'road'}, {'name': 'vine street', 'type': 'road'}, {'name': 'free parking', 'type': 'free parking'}, {'name': 'strand', 'type': 'road'}, {'name': 'chance', 'type': 'chance'}, {'name': 'fleet street', 'type': 'road'}, {'name': 'trafalgar square', 'type': 'road'}, {'name': 'Fenchurch st. station', 'type': 'station'}, {'name': 'leicester square', 'type': 'road'}, {'name': 'coventry street', 'type': 'road'}, {'name': 'water works', 'type': 'utility'}, {'name': 'piccadilly', 'type': 'road'}, {'name': 'go to jail', 'type': 'go to jail'}, {'name': 'regent street', 'type': 'road'}, {'name': 'oxford street', 'type': 'road'}, {'name': 'community chest', 'type': 'community chest'}, {'name': 'bond street', 'type': 'road'}, {'name': 'liverpool st station', 'type': 'station'}, {'name': 'chance', 'type': 'chance'}, {'name': 'park lane', 'type': 'road'}, {'name': 'super tax', 'type': 'tax'}, {'name': 'mayfair', 'type': 'road'}]\n",
      "\n",
      "        Roads:\n",
      "        {'old kent road': {'name': 'old kent road', 'type': 'road', 'price': 60, 'rent': 2, 'rent_with_color_set': 4, 'rent_with_1_houses_0_hotels': 10, 'rent_with_2_houses_0_hotels': 30, 'rent_with_3_houses_0_hotels': 90, 'rent_with_4_houses_0_hotels': 160, 'rent_with_4_houses_1_hotels': 250, 'mortgage_value': 30, 'unmortgage_value': 33, 'houses_cost': 50, 'hotels_cost': 50, 'color': 'brown', 'board_num': 1, 'belongs_to': None, 'is_mortgaged': False}, 'whitechapel road': {'name': 'whitechapel road', 'type': 'road', 'price': 60, 'rent': 4, 'rent_with_color_set': 8, 'rent_with_1_houses_0_hotels': 20, 'rent_with_2_houses_0_hotels': 60, 'rent_with_3_houses_0_hotels': 180, 'rent_with_4_houses_0_hotels': 320, 'rent_with_4_houses_1_hotels': 450, 'mortgage_value': 30, 'unmortgage_value': 33, 'houses_cost': 50, 'hotels_cost': 50, 'color': 'brown', 'board_num': 3, 'belongs_to': None, 'is_mortgaged': False}, 'the angel islington': {'name': 'the angel islington', 'type': 'road', 'price': 100, 'rent': 6, 'rent_with_color_set': 12, 'rent_with_1_houses_0_hotels': 30, 'rent_with_2_houses_0_hotels': 90, 'rent_with_3_houses_0_hotels': 270, 'rent_with_4_houses_0_hotels': 400, 'rent_with_4_houses_1_hotels': 550, 'mortgage_value': 50, 'unmortgage_value': 55, 'houses_cost': 50, 'hotels_cost': 50, 'color': 'light_blue', 'board_num': 6, 'belongs_to': None, 'is_mortgaged': False}, 'euston road': {'name': 'euston road', 'type': 'road', 'price': 100, 'rent': 6, 'rent_with_color_set': 12, 'rent_with_1_houses_0_hotels': 30, 'rent_with_2_houses_0_hotels': 90, 'rent_with_3_houses_0_hotels': 270, 'rent_with_4_houses_0_hotels': 400, 'rent_with_4_houses_1_hotels': 550, 'mortgage_value': 50, 'unmortgage_value': 55, 'houses_cost': 50, 'hotels_cost': 50, 'color': 'light_blue', 'board_num': 8, 'belongs_to': None, 'is_mortgaged': False}, 'pentonville road': {'name': 'pentonville road', 'type': 'road', 'price': 120, 'rent': 8, 'rent_with_color_set': 16, 'rent_with_1_houses_0_hotels': 40, 'rent_with_2_houses_0_hotels': 100, 'rent_with_3_houses_0_hotels': 300, 'rent_with_4_houses_0_hotels': 450, 'rent_with_4_houses_1_hotels': 600, 'mortgage_value': 60, 'unmortgage_value': 66, 'houses_cost': 50, 'hotels_cost': 50, 'color': 'light_blue', 'board_num': 9, 'belongs_to': None, 'is_mortgaged': False}, 'pall mall': {'name': 'pall mall', 'type': 'road', 'price': 140, 'rent': 10, 'rent_with_color_set': 20, 'rent_with_1_houses_0_hotels': 50, 'rent_with_2_houses_0_hotels': 150, 'rent_with_3_houses_0_hotels': 450, 'rent_with_4_houses_0_hotels': 625, 'rent_with_4_houses_1_hotels': 750, 'mortgage_value': 70, 'unmortgage_value': 77, 'houses_cost': 100, 'hotels_cost': 100, 'color': 'purple', 'board_num': 11, 'belongs_to': None, 'is_mortgaged': False}, 'whitehall': {'name': 'whitehall', 'type': 'road', 'price': 140, 'rent': 10, 'rent_with_color_set': 20, 'rent_with_1_houses_0_hotels': 50, 'rent_with_2_houses_0_hotels': 150, 'rent_with_3_houses_0_hotels': 450, 'rent_with_4_houses_0_hotels': 625, 'rent_with_4_houses_1_hotels': 750, 'mortgage_value': 70, 'unmortgage_value': 77, 'houses_cost': 100, 'hotels_cost': 100, 'color': 'purple', 'board_num': 13, 'belongs_to': None, 'is_mortgaged': False}, 'northumberland avenue': {'name': 'northumberland avenue', 'type': 'road', 'price': 160, 'rent': 12, 'rent_with_color_set': 24, 'rent_with_1_houses_0_hotels': 60, 'rent_with_2_houses_0_hotels': 180, 'rent_with_3_houses_0_hotels': 500, 'rent_with_4_houses_0_hotels': 700, 'rent_with_4_houses_1_hotels': 900, 'mortgage_value': 80, 'unmortgage_value': 88, 'houses_cost': 100, 'hotels_cost': 100, 'color': 'purple', 'board_num': 14, 'belongs_to': None, 'is_mortgaged': False}, 'bow street': {'name': 'bow street', 'type': 'road', 'price': 180, 'rent': 14, 'rent_with_color_set': 28, 'rent_with_1_houses_0_hotels': 70, 'rent_with_2_houses_0_hotels': 200, 'rent_with_3_houses_0_hotels': 550, 'rent_with_4_houses_0_hotels': 750, 'rent_with_4_houses_1_hotels': 950, 'mortgage_value': 90, 'unmortgage_value': 99, 'houses_cost': 100, 'hotels_cost': 100, 'color': 'orange', 'board_num': 16, 'belongs_to': None, 'is_mortgaged': False}, 'marlborough street': {'name': 'marlborough street', 'type': 'road', 'price': 180, 'rent': 14, 'rent_with_color_set': 28, 'rent_with_1_houses_0_hotels': 70, 'rent_with_2_houses_0_hotels': 200, 'rent_with_3_houses_0_hotels': 550, 'rent_with_4_houses_0_hotels': 750, 'rent_with_4_houses_1_hotels': 950, 'mortgage_value': 90, 'unmortgage_value': 99, 'houses_cost': 100, 'hotels_cost': 100, 'color': 'orange', 'board_num': 18, 'belongs_to': None, 'is_mortgaged': False}, 'vine street': {'name': 'vine street', 'type': 'road', 'price': 200, 'rent': 16, 'rent_with_color_set': 32, 'rent_with_1_houses_0_hotels': 80, 'rent_with_2_houses_0_hotels': 220, 'rent_with_3_houses_0_hotels': 600, 'rent_with_4_houses_0_hotels': 800, 'rent_with_4_houses_1_hotels': 1000, 'mortgage_value': 100, 'unmortgage_value': 110, 'houses_cost': 100, 'hotels_cost': 100, 'color': 'orange', 'board_num': 19, 'belongs_to': None, 'is_mortgaged': False}, 'strand': {'name': 'strand', 'type': 'road', 'price': 220, 'rent': 18, 'rent_with_color_set': 36, 'rent_with_1_houses_0_hotels': 90, 'rent_with_2_houses_0_hotels': 250, 'rent_with_3_houses_0_hotels': 700, 'rent_with_4_houses_0_hotels': 875, 'rent_with_4_houses_1_hotels': 1050, 'mortgage_value': 110, 'unmortgage_value': 121, 'houses_cost': 150, 'hotels_cost': 150, 'color': 'red', 'board_num': 21, 'belongs_to': None, 'is_mortgaged': False}, 'fleet street': {'name': 'fleet street', 'type': 'road', 'price': 220, 'rent': 18, 'rent_with_color_set': 36, 'rent_with_1_houses_0_hotels': 90, 'rent_with_2_houses_0_hotels': 250, 'rent_with_3_houses_0_hotels': 700, 'rent_with_4_houses_0_hotels': 875, 'rent_with_4_houses_1_hotels': 1050, 'mortgage_value': 110, 'unmortgage_value': 121, 'houses_cost': 150, 'hotels_cost': 150, 'color': 'red', 'board_num': 23, 'belongs_to': None, 'is_mortgaged': False}, 'trafalgar square': {'name': 'trafalgar square', 'type': 'road', 'price': 240, 'rent': 20, 'rent_with_color_set': 40, 'rent_with_1_houses_0_hotels': 100, 'rent_with_2_houses_0_hotels': 300, 'rent_with_3_houses_0_hotels': 750, 'rent_with_4_houses_0_hotels': 925, 'rent_with_4_houses_1_hotels': 1100, 'mortgage_value': 120, 'unmortgage_value': 132, 'houses_cost': 150, 'hotels_cost': 150, 'color': 'red', 'board_num': 24, 'belongs_to': None, 'is_mortgaged': False}, 'leicester square': {'name': 'leicester square', 'type': 'road', 'price': 260, 'rent': 22, 'rent_with_color_set': 44, 'rent_with_1_houses_0_hotels': 110, 'rent_with_2_houses_0_hotels': 330, 'rent_with_3_houses_0_hotels': 800, 'rent_with_4_houses_0_hotels': 975, 'rent_with_4_houses_1_hotels': 1150, 'mortgage_value': 130, 'unmortgage_value': 143, 'houses_cost': 150, 'hotels_cost': 150, 'color': 'yellow', 'board_num': 26, 'belongs_to': None, 'is_mortgaged': False}, 'coventry street': {'name': 'coventry street', 'type': 'road', 'price': 260, 'rent': 22, 'rent_with_color_set': 44, 'rent_with_1_houses_0_hotels': 110, 'rent_with_2_houses_0_hotels': 330, 'rent_with_3_houses_0_hotels': 800, 'rent_with_4_houses_0_hotels': 975, 'rent_with_4_houses_1_hotels': 1150, 'mortgage_value': 130, 'unmortgage_value': 143, 'houses_cost': 150, 'hotels_cost': 150, 'color': 'yellow', 'board_num': 27, 'belongs_to': None, 'is_mortgaged': False}, 'piccadilly': {'name': 'piccadilly', 'type': 'road', 'price': 280, 'rent': 24, 'rent_with_color_set': 48, 'rent_with_1_houses_0_hotels': 120, 'rent_with_2_houses_0_hotels': 360, 'rent_with_3_houses_0_hotels': 850, 'rent_with_4_houses_0_hotels': 1025, 'rent_with_4_houses_1_hotels': 1200, 'mortgage_value': 140, 'unmortgage_value': 154, 'houses_cost': 150, 'hotels_cost': 150, 'color': 'yellow', 'board_num': 29, 'belongs_to': None, 'is_mortgaged': False}, 'regent street': {'name': 'regent street', 'type': 'road', 'price': 300, 'rent': 26, 'rent_with_color_set': 52, 'rent_with_1_houses_0_hotels': 130, 'rent_with_2_houses_0_hotels': 390, 'rent_with_3_houses_0_hotels': 900, 'rent_with_4_houses_0_hotels': 1100, 'rent_with_4_houses_1_hotels': 1275, 'mortgage_value': 150, 'unmortgage_value': 165, 'houses_cost': 200, 'hotels_cost': 200, 'color': 'green', 'board_num': 31, 'belongs_to': None, 'is_mortgaged': False}, 'oxford street': {'name': 'oxford street', 'type': 'road', 'price': 300, 'rent': 26, 'rent_with_color_set': 52, 'rent_with_1_houses_0_hotels': 130, 'rent_with_2_houses_0_hotels': 390, 'rent_with_3_houses_0_hotels': 900, 'rent_with_4_houses_0_hotels': 1100, 'rent_with_4_houses_1_hotels': 1275, 'mortgage_value': 150, 'unmortgage_value': 165, 'houses_cost': 200, 'hotels_cost': 200, 'color': 'green', 'board_num': 32, 'belongs_to': None, 'is_mortgaged': False}, 'bond street': {'name': 'bond street', 'type': 'road', 'price': 320, 'rent': 28, 'rent_with_color_set': 56, 'rent_with_1_houses_0_hotels': 150, 'rent_with_2_houses_0_hotels': 450, 'rent_with_3_houses_0_hotels': 1000, 'rent_with_4_houses_0_hotels': 1200, 'rent_with_4_houses_1_hotels': 1400, 'mortgage_value': 160, 'unmortgage_value': 176, 'houses_cost': 200, 'hotels_cost': 200, 'color': 'green', 'board_num': 34, 'belongs_to': None, 'is_mortgaged': False}, 'park lane': {'name': 'park lane', 'type': 'road', 'price': 350, 'rent': 35, 'rent_with_color_set': 70, 'rent_with_1_houses_0_hotels': 175, 'rent_with_2_houses_0_hotels': 500, 'rent_with_3_houses_0_hotels': 1100, 'rent_with_4_houses_0_hotels': 1300, 'rent_with_4_houses_1_hotels': 1500, 'mortgage_value': 175, 'unmortgage_value': 193, 'houses_cost': 200, 'hotels_cost': 200, 'color': 'blue', 'board_num': 37, 'belongs_to': None, 'is_mortgaged': False}, 'mayfair': {'name': 'mayfair', 'type': 'road', 'price': 400, 'rent': 50, 'rent_with_color_set': 100, 'rent_with_1_houses_0_hotels': 200, 'rent_with_2_houses_0_hotels': 600, 'rent_with_3_houses_0_hotels': 1400, 'rent_with_4_houses_0_hotels': 1700, 'rent_with_4_houses_1_hotels': 2000, 'mortgage_value': 200, 'unmortgage_value': 220, 'houses_cost': 200, 'hotels_cost': 200, 'color': 'blue', 'board_num': 39, 'belongs_to': None, 'is_mortgaged': False}}\n",
      "\n",
      "        Properties:\n",
      "        {'kings cross station': {'name': 'kings cross station', 'type': 'station', 'price': 200, 'rent': 25, 'mortgage_value': 100, 'unmortgage_value': 110, 'board_num': 5, 'belongs_to': None, 'is_mortgaged': False}, 'marylebone station': {'name': 'marylebone station', 'type': 'station', 'price': 200, 'rent': 25, 'mortgage_value': 100, 'unmortgage_value': 110, 'board_num': 15, 'belongs_to': None, 'is_mortgaged': False}, 'Fenchurch st. station': {'name': 'Fenchurch st. station', 'type': 'station', 'price': 200, 'rent': 25, 'mortgage_value': 100, 'unmortgage_value': 110, 'board_num': 25, 'belongs_to': None, 'is_mortgaged': False}, 'liverpool st station': {'name': 'liverpool st station', 'type': 'station', 'price': 200, 'rent': 25, 'mortgage_value': 100, 'unmortgage_value': 110, 'board_num': 35, 'belongs_to': None, 'is_mortgaged': False}, 'Electric company': {'name': 'Electric company', 'type': 'utility', 'price': 150, 'rent': None, 'mortgage_value': 75, 'unmortgage_value': 83, 'board_num': 12, 'belongs_to': None, 'is_mortgaged': False}, 'water works': {'name': 'water works', 'type': 'utility', 'price': 150, 'rent': None, 'mortgage_value': 75, 'unmortgage_value': 83, 'board_num': 28, 'belongs_to': None, 'is_mortgaged': False}}\n",
      "\n",
      "        Players:\n",
      "        Player 1 and Player 2\n",
      "\n",
      "        Your Objective:\n",
      "        Given the current state of the game, make strategic moves that maximizes your chances of winning.\n",
      "\n",
      "        Guidelines:\n",
      "        1. Analyze each component of the game state to understand your current situation.\n",
      "        2. Consider any immediate risks or opportunities from property ownership, player positions, or your current balance.\n",
      "\n",
      "        Instructions:\n",
      "        - Reason step-by-step to ensure your action aligns with the game’s rules and overall strategy.\n",
      "        - Provide your next move by determining if you should buy the property or not (yes or no)\n",
      "  \n"
     ]
    }
   ],
   "source": [
    "# Here's some example usage of the above function. We'll overwrite \n",
    "# these variables later in actual use\n",
    "\n",
    "# Define the game setup and get initial game state\n",
    "game = initialize_game()  # Initializes the bank, board, roads, properties, and players\n",
    "\n",
    "# Generate the prompt with specific game details\n",
    "template = prompt_template()\n",
    "formatted_prompt = template.format(\n",
    "    agent_role=\"Player 1\",\n",
    "    initial_bank=game[\"bank\"],\n",
    "    initial_board=game[\"board\"],\n",
    "    initial_roads=game[\"roads\"],\n",
    "    initial_properties=game[\"properties\"]\n",
    ")\n",
    "\n",
    "print(formatted_prompt)"
   ]
  },
  {
   "cell_type": "markdown",
   "metadata": {},
   "source": [
    "### Output Parser\n",
    "\n",
    "The following defines a parser for interpreting the agent's output in the Monopoly game"
   ]
  },
  {
   "cell_type": "code",
   "execution_count": 17,
   "metadata": {},
   "outputs": [],
   "source": [
    "class Output(BaseModel):\n",
    "    reasoning: str = Field(description=\"Your reasoning for the decision\")\n",
    "    decision: str = Field(description=\"Your decision for the next move\")"
   ]
  },
  {
   "cell_type": "code",
   "execution_count": 18,
   "metadata": {},
   "outputs": [],
   "source": [
    "def output_parser(model):\n",
    "    return model.with_structured_output(Output)"
   ]
  },
  {
   "cell_type": "markdown",
   "metadata": {},
   "source": [
    "### Simulate the Game"
   ]
  },
  {
   "cell_type": "markdown",
   "metadata": {},
   "source": [
    "Set up prompt template and LLM chain"
   ]
  },
  {
   "cell_type": "code",
   "execution_count": 19,
   "metadata": {},
   "outputs": [],
   "source": [
    "model = ChatOpenAI(model=\"gpt-4o-mini\", api_key=openai_key)"
   ]
  },
  {
   "cell_type": "code",
   "execution_count": 20,
   "metadata": {},
   "outputs": [],
   "source": [
    "structured_llm = model.with_structured_output(Output)"
   ]
  },
  {
   "cell_type": "markdown",
   "metadata": {},
   "source": [
    "Initialize the game and make arbitrary moves"
   ]
  },
  {
   "cell_type": "code",
   "execution_count": 21,
   "metadata": {},
   "outputs": [],
   "source": [
    "game = initialize_game()"
   ]
  },
  {
   "cell_type": "code",
   "execution_count": 22,
   "metadata": {},
   "outputs": [],
   "source": [
    "player1 = game[\"players\"][0]\n",
    "player2 = game[\"players\"][1]\n",
    "list_players = [player1, player2]\n",
    "\n",
    "stop_at_round = 5 # arbitrary number of rounds to play before agent comes in and make a decision (for POC)"
   ]
  },
  {
   "cell_type": "code",
   "execution_count": 23,
   "metadata": {},
   "outputs": [],
   "source": [
    "idx_count = 0\n",
    "while not player1.has_lost() and not player2.has_lost() and idx_count < stop_at_round:\n",
    "    for player in list_players:\n",
    "        player.play()\n",
    "    idx_count += 1"
   ]
  },
  {
   "cell_type": "markdown",
   "metadata": {},
   "source": [
    "injecting variables"
   ]
  },
  {
   "cell_type": "markdown",
   "metadata": {},
   "source": [
    "1. Set up prompt template and LLM chain\n",
    "2. Hardcode some injection variables & make sure it works\n",
    "3. Code to retrieve game info / states"
   ]
  },
  {
   "cell_type": "code",
   "execution_count": 24,
   "metadata": {},
   "outputs": [],
   "source": [
    "initial_template = prompt_template()"
   ]
  },
  {
   "cell_type": "code",
   "execution_count": 25,
   "metadata": {},
   "outputs": [],
   "source": [
    "### Only one turn of the game is played so far\n",
    "context = initial_template.format(\n",
    "    agent_role=\"Player 1\",  # or as appropriate\n",
    "    initial_bank=game[\"bank\"],\n",
    "    initial_board=game[\"board\"],\n",
    "    initial_roads=game[\"roads\"],\n",
    "    initial_properties=game[\"properties\"]\n",
    ")"
   ]
  },
  {
   "cell_type": "code",
   "execution_count": 26,
   "metadata": {},
   "outputs": [],
   "source": [
    "response = structured_llm.invoke(f\"${context}. player_state is ${get_current_state(list_players)}\")"
   ]
  },
  {
   "cell_type": "code",
   "execution_count": 27,
   "metadata": {},
   "outputs": [
    {
     "data": {
      "text/plain": [
       "'no'"
      ]
     },
     "execution_count": 27,
     "metadata": {},
     "output_type": "execute_result"
    }
   ],
   "source": [
    "response.decision"
   ]
  },
  {
   "cell_type": "code",
   "execution_count": 28,
   "metadata": {},
   "outputs": [
    {
     "data": {
      "text/plain": [
       "\"As Player 1, I currently have 302 in cash and I need to consider my options carefully. I own several properties but have no houses or hotels built on them yet, which limits my income potential. Player 2 owns 'whitechapel road', which I land on if I move 6 spaces from my current position (39). However, I also need to think about acquiring more properties to increase my chances of generating income. The properties available on the board include several that are not owned, such as 'the angel islington' and 'euston road', which I already own. However, buying properties requires cash, and I need to ensure I have enough to cover any rents. Given that I can only land on properties not owned by others and I need to manage my cash flow effectively, I should not buy any additional properties now. My current cash position is low, and I need to protect it for potential rent payments or other expenses.\""
      ]
     },
     "execution_count": 28,
     "metadata": {},
     "output_type": "execute_result"
    }
   ],
   "source": [
    "response.reasoning"
   ]
  }
 ],
 "metadata": {
  "kernelspec": {
   "display_name": "usr",
   "language": "python",
   "name": "python3"
  },
  "language_info": {
   "codemirror_mode": {
    "name": "ipython",
    "version": 3
   },
   "file_extension": ".py",
   "mimetype": "text/x-python",
   "name": "python",
   "nbconvert_exporter": "python",
   "pygments_lexer": "ipython3",
   "version": "3.11.9"
  }
 },
 "nbformat": 4,
 "nbformat_minor": 2
}
