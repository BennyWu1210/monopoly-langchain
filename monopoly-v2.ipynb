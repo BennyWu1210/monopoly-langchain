{
 "cells": [
  {
   "cell_type": "markdown",
   "metadata": {},
   "source": [
    "## Monopoly Game Agent (v2)"
   ]
  },
  {
   "cell_type": "markdown",
   "metadata": {},
   "source": [
    "**Proof of Concept**: Connecting LLM I/O to game simulators\n",
    "\n",
    "The following notebook contains:\n",
    "- Function wrappers to retrieve game state\n",
    "- Basic prompt template that we can inject state into\n",
    "- Output parser to extract necessary data\n",
    "\n",
    "Note: You can download and import into Goolge Colab if that is preferred.\n",
    "\n",
    "---"
   ]
  },
  {
   "cell_type": "markdown",
   "metadata": {},
   "source": [
    "### Project Setup\n",
    "Install dependencies"
   ]
  },
  {
   "cell_type": "code",
   "execution_count": null,
   "metadata": {},
   "outputs": [],
   "source": [
    "%pip install -U langchain-community langchain-chroma langchain-openai"
   ]
  },
  {
   "cell_type": "markdown",
   "metadata": {},
   "source": [
    "Import monopoly simulator\n",
    "\n",
    "(Note for future: We should install the game simulator as a package)"
   ]
  },
  {
   "cell_type": "code",
   "execution_count": 26,
   "metadata": {},
   "outputs": [],
   "source": [
    "from simulator.monosim.player import Player\n",
    "from simulator.monosim.board import get_board, get_roads, get_properties, get_community_chest_cards, get_bank"
   ]
  },
  {
   "cell_type": "markdown",
   "metadata": {},
   "source": [
    "Importing other dependencies"
   ]
  },
  {
   "cell_type": "code",
   "execution_count": 27,
   "metadata": {},
   "outputs": [],
   "source": [
    "# LangChain\n",
    "from langchain_openai import ChatOpenAI\n",
    "from langchain import OpenAI, LLMChain, PromptTemplate\n",
    "\n",
    "# other imports\n",
    "from pydantic import BaseModel, Field\n",
    "from typing import List\n"
   ]
  },
  {
   "cell_type": "markdown",
   "metadata": {},
   "source": [
    "### Game Functions\n",
    "Wrappers that retrieves relevant game state(s)"
   ]
  },
  {
   "cell_type": "code",
   "execution_count": 28,
   "metadata": {},
   "outputs": [],
   "source": [
    "def initialize_game() -> dict:\n",
    "    \"\"\"\n",
    "    Initializes a game with two players and sets up the bank, board, roads, properties, \n",
    "    and community chest cards.\n",
    "    \n",
    "    Returns:\n",
    "        dict: A dictionary containing the following:\n",
    "            - \"bank\": Game's bank object.\n",
    "            - \"board\": Main game board.\n",
    "            - \"roads\": List of road objects.\n",
    "            - \"properties\": List of property objects.\n",
    "            - \"community_chest_cards\": Dictionary of community chest cards.\n",
    "            - \"players\": List of two Player objects, with Player 1 first.\n",
    "    \"\"\"\n",
    "    \n",
    "    bank = get_bank()\n",
    "    board = get_board()\n",
    "    roads = get_roads()\n",
    "    properties = get_properties()\n",
    "    community_chest_cards = get_community_chest_cards()\n",
    "    community_cards_deck = list(community_chest_cards.keys())\n",
    "\n",
    "    player1 = Player('player1', 1, bank, board, roads, properties, community_cards_deck)\n",
    "    player2 = Player('player2', 2, bank, board, roads, properties, community_cards_deck)\n",
    "    \n",
    "    player1.meet_other_players([player2])\n",
    "    player2.meet_other_players([player1])\n",
    "    \n",
    "    return {\n",
    "        \"bank\": bank,\n",
    "        \"board\": board,\n",
    "        \"roads\": roads,\n",
    "        \"properties\": properties,\n",
    "        \"community_chest_cards\": community_chest_cards,\n",
    "        \"players\": [player1, player2] # For now, player 1 always comes first\n",
    "    }"
   ]
  },
  {
   "cell_type": "code",
   "execution_count": 29,
   "metadata": {},
   "outputs": [],
   "source": [
    "def get_current_state(players) -> dict:\n",
    "    \"\"\"\n",
    "    Retrieves the current state of each player, including position, owned roads, \n",
    "    money, mortgaged properties, and other status details.\n",
    "\n",
    "    Args:\n",
    "        players (list[Player]): List of Player objects in the game.\n",
    "\n",
    "    Returns:\n",
    "        dict: A dictionary containing:\n",
    "            - \"players\": A list of dictionaries, each with a player's state.\n",
    "    \"\"\"\n",
    "    \n",
    "    current_state = {\n",
    "        \"players\": [{\"state\": player.get_state()} for player in players]\n",
    "    }\n",
    "    return current_state"
   ]
  },
  {
   "cell_type": "code",
   "execution_count": 30,
   "metadata": {},
   "outputs": [
    {
     "data": {
      "text/plain": [
       "{'cash': 5000, 'houses': 32, 'hotels': 12}"
      ]
     },
     "execution_count": 30,
     "metadata": {},
     "output_type": "execute_result"
    }
   ],
   "source": [
    "# Example usage of the above function\n",
    "initial_state = initialize_game()\n",
    "initial_state[\"bank\"]"
   ]
  },
  {
   "cell_type": "markdown",
   "metadata": {},
   "source": [
    "### Prompt Template\n",
    "\n",
    "The following defines a customizable prompt template for an agent in a Monopoly game. Each part of the template is easily customizable using placeholders for various game elements."
   ]
  },
  {
   "cell_type": "code",
   "execution_count": 31,
   "metadata": {},
   "outputs": [],
   "source": [
    "# The agent plays as Player 1 by default\n",
    "agent_role = \"Player 1\" "
   ]
  },
  {
   "cell_type": "code",
   "execution_count": 32,
   "metadata": {},
   "outputs": [],
   "source": [
    "# prompt template wrapper / hook, a function that returns a string\n",
    "def prompt_template():\n",
    "    \"\"\"\n",
    "    Generates a formatted prompt string for an agent in a Monopoly game, detailing \n",
    "    the game's current state and guiding strategic decision-making.\n",
    "\n",
    "    Returns:\n",
    "        str: A prompt template string with placeholders for:\n",
    "            - {agent_role}: The role of the agent in the game.\n",
    "            - {initial_bank}: Initial bank details.\n",
    "            - {initial_board}: Initial board configuration.\n",
    "            - {initial_roads}: List of roads.\n",
    "            - {initial_properties}: List of properties.\n",
    "\n",
    "    Usage:\n",
    "        Substitute placeholders to customize the prompt with the game state.\n",
    "    \"\"\"\n",
    "    \n",
    "    return  \"\"\"\n",
    "        You are the {agent_role} in a Monopoly game. Here is the current game state:\n",
    "\n",
    "        Bank:\n",
    "        {initial_bank}\n",
    "\n",
    "        Board:\n",
    "        {initial_board}\n",
    "\n",
    "        Roads:\n",
    "        {initial_roads}\n",
    "\n",
    "        Properties:\n",
    "        {initial_properties}\n",
    "\n",
    "        Players:\n",
    "        Player 1 and Player 2\n",
    "\n",
    "        Your Objective:\n",
    "        Given the current state of the game, make strategic moves that maximizes your chances of winning.\n",
    "\n",
    "        Guidelines:\n",
    "        1. Analyze each component of the game state to understand your current situation.\n",
    "        2. Consider any immediate risks or opportunities from property ownership, player positions, or your current balance.\n",
    "\n",
    "        Instructions:\n",
    "        - Reason step-by-step to ensure your action aligns with the game’s rules and overall strategy.\n",
    "        - Provide your next move by determining if you should buy the property or not (yes or no)\n",
    "  \"\"\""
   ]
  },
  {
   "cell_type": "markdown",
   "metadata": {},
   "source": [
    "**Sample Usage:**\n",
    "```python\n",
    "# Define the game setup and get initial game state\n",
    "game = initialize_game()  # Initializes the bank, board, roads, properties, and players\n",
    "\n",
    "# Generate the prompt with specific game details\n",
    "template = prompt_template()\n",
    "formatted_prompt = template.format(\n",
    "    agent_role=\"Player 1\",\n",
    "    initial_bank=game[\"bank\"],\n",
    "    initial_board=game[\"board\"],\n",
    "    initial_roads=game[\"roads\"],\n",
    "    initial_properties=game[\"properties\"]\n",
    ")\n",
    "\n",
    "print(formatted_prompt)\n",
    "```"
   ]
  },
  {
   "cell_type": "markdown",
   "metadata": {},
   "source": [
    "### Output Parser\n",
    "\n",
    "The following defines a parser for interpreting the agent's output in the Monopoly game"
   ]
  },
  {
   "cell_type": "code",
   "execution_count": 33,
   "metadata": {},
   "outputs": [],
   "source": [
    "class Output(BaseModel):\n",
    "    reasoning: str = Field(description=\"Your reasoning for the decision\")\n",
    "    decision: str = Field(description=\"Your decision for the next move\")"
   ]
  },
  {
   "cell_type": "code",
   "execution_count": 34,
   "metadata": {},
   "outputs": [],
   "source": [
    "def output_parser(model):\n",
    "    return model.with_structured_output(Output)"
   ]
  },
  {
   "cell_type": "markdown",
   "metadata": {},
   "source": [
    "### Simulate the Game"
   ]
  },
  {
   "cell_type": "markdown",
   "metadata": {},
   "source": [
    "Set up prompt template and LLM chain"
   ]
  },
  {
   "cell_type": "code",
   "execution_count": 35,
   "metadata": {},
   "outputs": [],
   "source": [
    "model = ChatOpenAI(model=\"gpt-4o\")"
   ]
  },
  {
   "cell_type": "code",
   "execution_count": 36,
   "metadata": {},
   "outputs": [],
   "source": [
    "structured_llm = model.with_structured_output(Output)"
   ]
  },
  {
   "cell_type": "markdown",
   "metadata": {},
   "source": [
    "Initialize the game and make arbitrary moves"
   ]
  },
  {
   "cell_type": "code",
   "execution_count": 37,
   "metadata": {},
   "outputs": [],
   "source": [
    "game = initialize_game()"
   ]
  },
  {
   "cell_type": "code",
   "execution_count": 38,
   "metadata": {},
   "outputs": [],
   "source": [
    "player1 = game[\"players\"][0]\n",
    "player2 = game[\"players\"][1]\n",
    "list_players = [player1, player2]\n",
    "\n",
    "stop_at_round = 5 # arbitrary number of rounds to play before agent comes in and make a decision (for POC)"
   ]
  },
  {
   "cell_type": "code",
   "execution_count": 39,
   "metadata": {},
   "outputs": [],
   "source": [
    "idx_count = 0\n",
    "while not player1.has_lost() and not player2.has_lost() and idx_count < stop_at_round:\n",
    "    for player in list_players:\n",
    "        player.play()\n",
    "    idx_count += 1"
   ]
  },
  {
   "cell_type": "markdown",
   "metadata": {},
   "source": [
    "injecting variables"
   ]
  },
  {
   "cell_type": "markdown",
   "metadata": {},
   "source": [
    "1. Set up prompt template and LLM chain\n",
    "2. Hardcode some injection variables & make sure it works\n",
    "3. Code to retrieve game info / states"
   ]
  },
  {
   "cell_type": "code",
   "execution_count": 40,
   "metadata": {},
   "outputs": [],
   "source": [
    "initial_template = prompt_template()"
   ]
  },
  {
   "cell_type": "code",
   "execution_count": 41,
   "metadata": {},
   "outputs": [],
   "source": [
    "### Only one turn of the game is played so far\n",
    "context = initial_template.format(\n",
    "    agent_role=\"Player 1\",  # or as appropriate\n",
    "    initial_bank=game[\"bank\"],\n",
    "    initial_board=game[\"board\"],\n",
    "    initial_roads=game[\"roads\"],\n",
    "    initial_properties=game[\"properties\"]\n",
    ")"
   ]
  },
  {
   "cell_type": "code",
   "execution_count": 44,
   "metadata": {},
   "outputs": [],
   "source": [
    "response = structured_llm.invoke(f\"${context}. player_state is ${get_current_state(list_players)}\")"
   ]
  },
  {
   "cell_type": "code",
   "execution_count": 45,
   "metadata": {},
   "outputs": [
    {
     "data": {
      "text/plain": [
       "'yes'"
      ]
     },
     "execution_count": 45,
     "metadata": {},
     "output_type": "execute_result"
    }
   ],
   "source": [
    "response.decision"
   ]
  },
  {
   "cell_type": "code",
   "execution_count": 46,
   "metadata": {},
   "outputs": [
    {
     "data": {
      "text/plain": [
       "'Player 1 is currently on Oxford Street (position 32). With a dice roll of 10, they will land on Bond Street (position 34), which is unowned and costs $320. Player 1 has $946 in cash, which is enough to purchase Bond Street and still maintain a healthy balance. Buying Bond Street could be a strategic move as it is part of the green color set, and Player 1 already owns Oxford Street in the same set. Purchasing Bond Street would bring Player 1 closer to completing the green set, which could significantly increase rent income if developed. Additionally, Bond Street has a higher rent value, making it a valuable property for future income.'"
      ]
     },
     "execution_count": 46,
     "metadata": {},
     "output_type": "execute_result"
    }
   ],
   "source": [
    "response.reasoning"
   ]
  },
  {
   "cell_type": "code",
   "execution_count": null,
   "metadata": {},
   "outputs": [],
   "source": []
  }
 ],
 "metadata": {
  "kernelspec": {
   "display_name": ".venv",
   "language": "python",
   "name": "python3"
  },
  "language_info": {
   "codemirror_mode": {
    "name": "ipython",
    "version": 3
   },
   "file_extension": ".py",
   "mimetype": "text/x-python",
   "name": "python",
   "nbconvert_exporter": "python",
   "pygments_lexer": "ipython3",
   "version": "3.11.3"
  }
 },
 "nbformat": 4,
 "nbformat_minor": 2
}
